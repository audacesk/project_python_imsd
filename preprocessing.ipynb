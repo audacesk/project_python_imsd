{
 "cells": [
  {
   "cell_type": "code",
   "execution_count": 25,
   "metadata": {},
   "outputs": [],
   "source": [
    "import pandas as pd"
   ]
  },
  {
   "cell_type": "code",
   "execution_count": 26,
   "metadata": {},
   "outputs": [],
   "source": [
    "### Ranking 1 : The Most Funded\n",
    "funding = pd.read_excel('C:/Users/moham/OneDrive/Bureau/Cours/M2 IMSD/Python/Projet/project_python_imsd-master/ranking_1.xlsx', header = 0)\n",
    "### Ranking 2 : The most visited (alexaRank)\n",
    "alexaRank = pd.read_excel('C:/Users/moham/OneDrive/Bureau/Cours/M2 IMSD/Python/Projet/project_python_imsd-master/ranking_2.xlsx', header = 0)\n",
    "### Ranking 3 : The most popular (twitter followers)\n",
    "twitterFollowers = pd.read_excel('C:/Users/moham/OneDrive/Bureau/Cours/M2 IMSD/Python/Projet/project_python_imsd-master/ranking_3.xlsx', header = 0)\n",
    "### Ranking 4 : The Most Authoritative\n",
    "domainAuthority = pd.read_excel('C:/Users/moham/OneDrive/Bureau/Cours/M2 IMSD/Python/Projet/project_python_imsd-master/ranking_4.xlsx', header = 0)\n",
    "### Ranking 5 : The most liked (on facebook)\n",
    "facebookLikes = pd.read_excel('C:/Users/moham/OneDrive/Bureau/Cours/M2 IMSD/Python/Projet/project_python_imsd-master/ranking_5.xlsx', header = 0)\n",
    "### Ranking 6 : The Most Upvoted\n",
    "huntVotes = pd.read_excel('C:/Users/moham/OneDrive/Bureau/Cours/M2 IMSD/Python/Projet/project_python_imsd-master/ranking_6.xlsx', header = 0)\n",
    "### Ranking 7 : The Fastest Growing\n",
    "growthScore = pd.read_excel('C:/Users/moham/OneDrive/Bureau/Cours/M2 IMSD/Python/Projet/project_python_imsd-master/ranking_7.xlsx', header = 0)\n",
    "### Ranking 8 : The Most Prolific (number of statuses posted on company Twitter account)\n",
    "tweetCount = pd.read_excel('C:/Users/moham/OneDrive/Bureau/Cours/M2 IMSD/Python/Projet/project_python_imsd-master/ranking_8.xlsx', header = 0)\n",
    "### Ranking 9 : The Most Influential (LinkedIn followers)\n",
    "linkedinFollowers = pd.read_excel('C:/Users/moham/OneDrive/Bureau/Cours/M2 IMSD/Python/Projet/project_python_imsd-master/ranking_9.xlsx', header = 0)\n",
    "### Ranking 10 : The Most populous\n",
    "employeesCount = pd.read_excel('C:/Users/moham/OneDrive/Bureau/Cours/M2 IMSD/Python/Projet/project_python_imsd-master/ranking_10.xlsx', header = 0)\n",
    "### Ranking 11 : The Most Cashed Out\n",
    "exitValue = pd.read_excel('C:/Users/moham/OneDrive/Bureau/Cours/M2 IMSD/Python/Projet/project_python_imsd-master/ranking_11.xlsx', header = 0)"
   ]
  },
  {
   "cell_type": "code",
   "execution_count": 27,
   "metadata": {},
   "outputs": [
    {
     "data": {
      "text/html": [
       "<div>\n",
       "<style scoped>\n",
       "    .dataframe tbody tr th:only-of-type {\n",
       "        vertical-align: middle;\n",
       "    }\n",
       "\n",
       "    .dataframe tbody tr th {\n",
       "        vertical-align: top;\n",
       "    }\n",
       "\n",
       "    .dataframe thead th {\n",
       "        text-align: right;\n",
       "    }\n",
       "</style>\n",
       "<table border=\"1\" class=\"dataframe\">\n",
       "  <thead>\n",
       "    <tr style=\"text-align: right;\">\n",
       "      <th></th>\n",
       "      <th>noms</th>\n",
       "      <th>batch</th>\n",
       "      <th>categories</th>\n",
       "      <th>descriptions</th>\n",
       "      <th>variable</th>\n",
       "    </tr>\n",
       "  </thead>\n",
       "  <tbody>\n",
       "    <tr>\n",
       "      <th>0</th>\n",
       "      <td>Airbnb</td>\n",
       "      <td>W09</td>\n",
       "      <td>Consumer</td>\n",
       "      <td>Book accommodations around the world</td>\n",
       "      <td>$6,000.3m</td>\n",
       "    </tr>\n",
       "    <tr>\n",
       "      <th>1</th>\n",
       "      <td>Cruise</td>\n",
       "      <td>W14</td>\n",
       "      <td>Transport</td>\n",
       "      <td>Self-driving cars.</td>\n",
       "      <td>$3,368.8m</td>\n",
       "    </tr>\n",
       "    <tr>\n",
       "      <th>2</th>\n",
       "      <td>Instacart</td>\n",
       "      <td>S12</td>\n",
       "      <td>Consumer</td>\n",
       "      <td>Groceries delivered fast.</td>\n",
       "      <td>$2,095.9m</td>\n",
       "    </tr>\n",
       "    <tr>\n",
       "      <th>3</th>\n",
       "      <td>Dropbox</td>\n",
       "      <td>S07</td>\n",
       "      <td>Other SaaS</td>\n",
       "      <td>Backup and share files in the cloud.</td>\n",
       "      <td>$2,057.2m</td>\n",
       "    </tr>\n",
       "    <tr>\n",
       "      <th>4</th>\n",
       "      <td>DoorDash</td>\n",
       "      <td>S13</td>\n",
       "      <td>Consumer</td>\n",
       "      <td>Restaurant delivery.</td>\n",
       "      <td>$2,000.0m</td>\n",
       "    </tr>\n",
       "  </tbody>\n",
       "</table>\n",
       "</div>"
      ],
      "text/plain": [
       "        noms batch  categories                          descriptions  \\\n",
       "0     Airbnb   W09    Consumer  Book accommodations around the world   \n",
       "1     Cruise   W14   Transport                    Self-driving cars.   \n",
       "2  Instacart   S12    Consumer             Groceries delivered fast.   \n",
       "3    Dropbox   S07  Other SaaS  Backup and share files in the cloud.   \n",
       "4   DoorDash   S13    Consumer                  Restaurant delivery.   \n",
       "\n",
       "    variable  \n",
       "0  $6,000.3m  \n",
       "1  $3,368.8m  \n",
       "2  $2,095.9m  \n",
       "3  $2,057.2m  \n",
       "4  $2,000.0m  "
      ]
     },
     "execution_count": 27,
     "metadata": {},
     "output_type": "execute_result"
    }
   ],
   "source": [
    "funding.head()"
   ]
  },
  {
   "cell_type": "code",
   "execution_count": 28,
   "metadata": {},
   "outputs": [
    {
     "name": "stdout",
     "output_type": "stream",
     "text": [
      "<class 'pandas.core.frame.DataFrame'>\n",
      "Int64Index: 100 entries, 0 to 99\n",
      "Data columns (total 5 columns):\n",
      "noms            100 non-null object\n",
      "batch           100 non-null object\n",
      "categories      100 non-null object\n",
      "descriptions    100 non-null object\n",
      "variable        100 non-null object\n",
      "dtypes: object(5)\n",
      "memory usage: 4.7+ KB\n"
     ]
    }
   ],
   "source": [
    "funding.info()"
   ]
  },
  {
   "cell_type": "code",
   "execution_count": 29,
   "metadata": {},
   "outputs": [],
   "source": [
    "### Create a list with all the ranking datasets\n",
    "rankings = [funding, alexaRank, twitterFollowers, domainAuthority, facebookLikes, huntVotes, growthScore, tweetCount, linkedinFollowers, employeesCount, exitValue]"
   ]
  },
  {
   "cell_type": "code",
   "execution_count": null,
   "metadata": {},
   "outputs": [],
   "source": [
    "### On va travailler à la fois sur chaque dataframe séparément (pour avoir l'info du classement, combiner les dataframe\n",
    "### deux à deux etc.) mais aussi sur l'ensemble. Je fusionne l'ensemble plus tard."
   ]
  },
  {
   "cell_type": "code",
   "execution_count": 35,
   "metadata": {},
   "outputs": [],
   "source": [
    "### Supprimer les $ et les m :\n",
    "for dataset in [funding, exitValue]:\n",
    "    dataset['variable'] = dataset['variable'].str[1:-1]"
   ]
  },
  {
   "cell_type": "code",
   "execution_count": 33,
   "metadata": {},
   "outputs": [],
   "source": [
    "# Créer une fonction pour obtenir le nom du dataframe\n",
    "def get_df_name(df):\n",
    "    name =[x for x in globals() if globals()[x] is df][0]\n",
    "    return name"
   ]
  },
  {
   "cell_type": "code",
   "execution_count": 36,
   "metadata": {},
   "outputs": [
    {
     "name": "stdout",
     "output_type": "stream",
     "text": [
      "La variable du dataframe domainAuthority est déjà sous une forme adaptée.\n"
     ]
    }
   ],
   "source": [
    "# Enlever les virgules des milliers pour les colonnes qui en ont, et \n",
    "for dataset in rankings:\n",
    "    if (dataset['variable'].dtype != 'int64') & (dataset['variable'].dtype != 'float64'):\n",
    "        for count, value in enumerate(dataset['variable']):\n",
    "            dataset.replace(dataset['variable'][count], value.replace(',', ''), inplace=True)\n",
    "    else:\n",
    "        print('La variable du dataframe ' + get_df_name(dataset) + ' est déjà sous une forme adaptée.')"
   ]
  },
  {
   "cell_type": "code",
   "execution_count": 37,
   "metadata": {},
   "outputs": [],
   "source": [
    "# Passer la variable d'intérêt d'objet à float.\n",
    "for dataset in rankings:\n",
    "    if (dataset['variable'].dtype != 'int64') & (dataset['variable'].dtype != 'float64'):\n",
    "        for value in dataset['variable']:\n",
    "            dataset = dataset.astype({'variable': 'float64'})"
   ]
  },
  {
   "cell_type": "code",
   "execution_count": 38,
   "metadata": {},
   "outputs": [],
   "source": [
    "# Changer le nom de la variable d'intérêt de chaque dataframe.\n",
    "for dataset in rankings:\n",
    "    dataset.rename(columns={'variable': get_df_name(dataset)}, inplace=True)"
   ]
  },
  {
   "cell_type": "code",
   "execution_count": 40,
   "metadata": {},
   "outputs": [],
   "source": [
    "from functools import reduce"
   ]
  },
  {
   "cell_type": "code",
   "execution_count": 45,
   "metadata": {},
   "outputs": [],
   "source": [
    "# Combiner les dataframe en un gros réunissant tout\n",
    "mergedRankings = reduce(lambda  left,right: pd.merge(left,right,on=['noms', 'batch', 'categories', 'descriptions'],\n",
    "                                            how='outer'), rankings)"
   ]
  },
  {
   "cell_type": "code",
   "execution_count": 46,
   "metadata": {},
   "outputs": [
    {
     "data": {
      "text/html": [
       "<div>\n",
       "<style scoped>\n",
       "    .dataframe tbody tr th:only-of-type {\n",
       "        vertical-align: middle;\n",
       "    }\n",
       "\n",
       "    .dataframe tbody tr th {\n",
       "        vertical-align: top;\n",
       "    }\n",
       "\n",
       "    .dataframe thead th {\n",
       "        text-align: right;\n",
       "    }\n",
       "</style>\n",
       "<table border=\"1\" class=\"dataframe\">\n",
       "  <thead>\n",
       "    <tr style=\"text-align: right;\">\n",
       "      <th></th>\n",
       "      <th>noms</th>\n",
       "      <th>batch</th>\n",
       "      <th>categories</th>\n",
       "      <th>descriptions</th>\n",
       "      <th>funding</th>\n",
       "      <th>alexaRank</th>\n",
       "      <th>twitterFollowers</th>\n",
       "      <th>domainAuthority</th>\n",
       "      <th>facebookLikes</th>\n",
       "      <th>huntVotes</th>\n",
       "      <th>growthScore</th>\n",
       "      <th>tweetCount</th>\n",
       "      <th>linkedinFollowers</th>\n",
       "      <th>employeesCount</th>\n",
       "      <th>exitValue</th>\n",
       "    </tr>\n",
       "  </thead>\n",
       "  <tbody>\n",
       "    <tr>\n",
       "      <th>0</th>\n",
       "      <td>Airbnb</td>\n",
       "      <td>W09</td>\n",
       "      <td>Consumer</td>\n",
       "      <td>Book accommodations around the world</td>\n",
       "      <td>6000.3</td>\n",
       "      <td>234</td>\n",
       "      <td>695116</td>\n",
       "      <td>91.0</td>\n",
       "      <td>8754088</td>\n",
       "      <td>NaN</td>\n",
       "      <td>600</td>\n",
       "      <td>39485</td>\n",
       "      <td>NaN</td>\n",
       "      <td>6100</td>\n",
       "      <td>NaN</td>\n",
       "    </tr>\n",
       "    <tr>\n",
       "      <th>1</th>\n",
       "      <td>Cruise</td>\n",
       "      <td>W14</td>\n",
       "      <td>Transport</td>\n",
       "      <td>Self-driving cars.</td>\n",
       "      <td>3368.8</td>\n",
       "      <td>NaN</td>\n",
       "      <td>NaN</td>\n",
       "      <td>NaN</td>\n",
       "      <td>NaN</td>\n",
       "      <td>NaN</td>\n",
       "      <td>NaN</td>\n",
       "      <td>NaN</td>\n",
       "      <td>NaN</td>\n",
       "      <td>1770</td>\n",
       "      <td>1000.0</td>\n",
       "    </tr>\n",
       "    <tr>\n",
       "      <th>2</th>\n",
       "      <td>Instacart</td>\n",
       "      <td>S12</td>\n",
       "      <td>Consumer</td>\n",
       "      <td>Groceries delivered fast.</td>\n",
       "      <td>2095.9</td>\n",
       "      <td>4536</td>\n",
       "      <td>31175</td>\n",
       "      <td>71.0</td>\n",
       "      <td>84839</td>\n",
       "      <td>NaN</td>\n",
       "      <td>NaN</td>\n",
       "      <td>40930</td>\n",
       "      <td>NaN</td>\n",
       "      <td>800</td>\n",
       "      <td>NaN</td>\n",
       "    </tr>\n",
       "    <tr>\n",
       "      <th>3</th>\n",
       "      <td>Dropbox</td>\n",
       "      <td>S07</td>\n",
       "      <td>Other SaaS</td>\n",
       "      <td>Backup and share files in the cloud.</td>\n",
       "      <td>2057.2</td>\n",
       "      <td>79</td>\n",
       "      <td>4371622</td>\n",
       "      <td>95.0</td>\n",
       "      <td>1351489</td>\n",
       "      <td>NaN</td>\n",
       "      <td>NaN</td>\n",
       "      <td>NaN</td>\n",
       "      <td>NaN</td>\n",
       "      <td>3740</td>\n",
       "      <td>NaN</td>\n",
       "    </tr>\n",
       "    <tr>\n",
       "      <th>4</th>\n",
       "      <td>DoorDash</td>\n",
       "      <td>S13</td>\n",
       "      <td>Consumer</td>\n",
       "      <td>Restaurant delivery.</td>\n",
       "      <td>2000.0</td>\n",
       "      <td>1649</td>\n",
       "      <td>117922</td>\n",
       "      <td>73.0</td>\n",
       "      <td>54532</td>\n",
       "      <td>NaN</td>\n",
       "      <td>930</td>\n",
       "      <td>NaN</td>\n",
       "      <td>NaN</td>\n",
       "      <td>1700</td>\n",
       "      <td>NaN</td>\n",
       "    </tr>\n",
       "  </tbody>\n",
       "</table>\n",
       "</div>"
      ],
      "text/plain": [
       "        noms batch  categories                          descriptions funding  \\\n",
       "0     Airbnb   W09    Consumer  Book accommodations around the world  6000.3   \n",
       "1     Cruise   W14   Transport                    Self-driving cars.  3368.8   \n",
       "2  Instacart   S12    Consumer             Groceries delivered fast.  2095.9   \n",
       "3    Dropbox   S07  Other SaaS  Backup and share files in the cloud.  2057.2   \n",
       "4   DoorDash   S13    Consumer                  Restaurant delivery.  2000.0   \n",
       "\n",
       "  alexaRank twitterFollowers  domainAuthority facebookLikes huntVotes  \\\n",
       "0       234           695116             91.0       8754088       NaN   \n",
       "1       NaN              NaN              NaN           NaN       NaN   \n",
       "2      4536            31175             71.0         84839       NaN   \n",
       "3        79          4371622             95.0       1351489       NaN   \n",
       "4      1649           117922             73.0         54532       NaN   \n",
       "\n",
       "  growthScore tweetCount linkedinFollowers employeesCount exitValue  \n",
       "0         600      39485               NaN           6100       NaN  \n",
       "1         NaN        NaN               NaN           1770    1000.0  \n",
       "2         NaN      40930               NaN            800       NaN  \n",
       "3         NaN        NaN               NaN           3740       NaN  \n",
       "4         930        NaN               NaN           1700       NaN  "
      ]
     },
     "execution_count": 46,
     "metadata": {},
     "output_type": "execute_result"
    }
   ],
   "source": [
    "mergedRankings.head()"
   ]
  },
  {
   "cell_type": "code",
   "execution_count": 48,
   "metadata": {},
   "outputs": [],
   "source": [
    "### Plein de NaN values. Il semblerait qu'on ait pas toujours les 100 mêmes entreprises... \n",
    "### Ou alors, problème lors du merge qui a mis plusieurs lignes pour la même entreprise car parfois pas exactement le même nom pour la même startup ?"
   ]
  },
  {
   "cell_type": "code",
   "execution_count": 49,
   "metadata": {},
   "outputs": [
    {
     "data": {
      "text/plain": [
       "noms                 499\n",
       "batch                 28\n",
       "categories            15\n",
       "descriptions         499\n",
       "funding               94\n",
       "alexaRank            100\n",
       "twitterFollowers     100\n",
       "domainAuthority       32\n",
       "facebookLikes        100\n",
       "huntVotes             93\n",
       "growthScore           84\n",
       "tweetCount           100\n",
       "linkedinFollowers     88\n",
       "employeesCount        56\n",
       "exitValue             38\n",
       "dtype: int64"
      ]
     },
     "execution_count": 49,
     "metadata": {},
     "output_type": "execute_result"
    }
   ],
   "source": [
    "mergedRankings.nunique() ### On voit bien qu'il y a 499 noms différents. A voir si on a pas trop de trous pour faire des analyses."
   ]
  },
  {
   "cell_type": "code",
   "execution_count": 51,
   "metadata": {},
   "outputs": [
    {
     "data": {
      "text/plain": [
       "array(['Airbnb', 'Cruise', 'Instacart', 'Dropbox', 'DoorDash', 'Flexport',\n",
       "       'Stripe', 'Rappi', 'Zenefits', 'Coinbase', 'Reddit',\n",
       "       'Ginkgo Bioworks', 'Machine Zone', 'LendUp', 'Docker',\n",
       "       '1000Memories', 'Gusto', 'North', 'CoreOS', 'Segment',\n",
       "       'Protocol Labs', 'Optimizely', 'Rigetti Computing', 'Airware',\n",
       "       'PagerDuty', 'Checkr', 'Drivezy', 'GitLab', 'Amplitude', 'Boom',\n",
       "       'Skip', 'PlanGrid', 'GoCardless', 'Kobo360', 'InfluxData',\n",
       "       'MatterPort', 'Blockstack', 'MemSQL', 'Seneca Systems', 'uBiome',\n",
       "       'Razorpay', 'Sift Science', 'Ridecell', 'People.ai', 'GOAT',\n",
       "       'Memebox', 'Fivestars', 'Podium', 'GrubMarket', 'Rescale',\n",
       "       'Tech in Asia', 'Front', 'Mixpanel', 'Atrium', 'Weave', 'Clever',\n",
       "       'Algolia', 'WePay', 'Tilt', 'Meta', 'Lever', 'Grin',\n",
       "       'Science Exchange', 'Soylent', 'Genius', 'Clustrix', 'SendBird',\n",
       "       'ClearTax', 'Mattermost', 'Axoni', 'Zenflow', 'The Athletic',\n",
       "       'Presto', 'Le Tote', 'Meesho', 'Homejoy', 'Verge Genomics',\n",
       "       'ShipBob', 'Teespring', 'Songkick', 'Vidyard', 'MessageBird',\n",
       "       'Boosted', 'Guesty', 'Pebble', 'EquipmentShare', 'HackerRank',\n",
       "       'Gobble', 'Solugen', 'Tinker', 'Hipmunk', 'Rippling', 'Atomwise',\n",
       "       'SmartAsset', 'Apollo', 'Mailgun', 'Standard Cognition',\n",
       "       'Lambda School', 'Triplebyte', 'Scribd', 'Twitch', '9gag',\n",
       "       'Weebly', 'Humble Bundle', 'Coub', 'Disqus', 'Font Awesome',\n",
       "       'Padlet', 'Creative Market', 'Zapier', 'Codecademy',\n",
       "       'Product Hunt', 'The Muse', 'Heroku', 'Wufoo', 'Zeplin', 'Repl.it',\n",
       "       'Webflow', 'OneSignal', 'Loom', 'HelloSign', 'Strikingly',\n",
       "       'Bitnami', 'PushBullet', 'WorkFlowy', 'BackerKit', 'Submittable',\n",
       "       'Paystack', 'YourMechanic', 'Chartio', 'Caviar', 'Quero Education',\n",
       "       'Ninite', 'Cambly', 'Platzi', 'UpLabs', 'Our World in Data',\n",
       "       'OpenAI', 'Chatfuel', 'Expo', 'RescueTime', 'Thunkable', 'ACLU',\n",
       "       'Substack', 'Octopart', 'StatusPage', 'Cratejoy', 'PadMapper',\n",
       "       'WayUp', 'NewsBlur', 'Fountain', 'Cashfree', 'ReadMe',\n",
       "       'Poll Everywhere', 'Streak', 'AirHelp', 'EasyPost', 'Flutterwave',\n",
       "       'Groww', 'Soomgo', '7cups', 'Joy', 'Kamcord', 'Listia', 'Kickback',\n",
       "       'Women Who Code', 'Hive', 'Nambii', 'Firebase', 'Parse',\n",
       "       'Posterous', 'Quantstamp', 'NextDrop', 'Request Network',\n",
       "       'CoinBundle', 'FREY', 'Heyzap', 'Future Advisor', 'Mattermark',\n",
       "       'Scentbird', 'Thread', 'Restocks', 'Skymind', 'Greentoe',\n",
       "       'Shoptiques', 'Recurse Center', 'GrepData', 'RethinkDB',\n",
       "       'Socialcam', 'Her', 'OmniVirt', 'Realm', 'Impraise', 'Jopwell',\n",
       "       'The Good Food Institute', 'Estimote', 'Petcube', 'Omgpop',\n",
       "       'Flaviar', 'Priceonomics', 'Spaces Life', 'Authy', 'Olark',\n",
       "       'Women.com', 'CodeCombat', 'Svbtle', 'Vote.org', 'Embedly',\n",
       "       'LendEDU', 'Xobni', 'Casetext', 'Couple', 'Rapportive',\n",
       "       'Automatic', 'Experiment', 'Click & Grow', 'Lockitron',\n",
       "       'Bluesmart', 'Coin', 'Lanyrd', 'Spire', 'Loopt', 'Lynks',\n",
       "       'Kalibrr', 'Bellabeat', 'Beek', 'Afrostream', 'Chaldal', 'L.',\n",
       "       'Paribus', 'Releaf', 'SOUNDBOKS', 'Lumoid', 'Verbling',\n",
       "       'Function of Beauty', 'Underground Cellar', 'Innov8', 'ShapeScale',\n",
       "       'FarmLogs', 'VIDA & Co.', 'BloomThat', 'Goodybag', 'Virool',\n",
       "       'Vayable', 'dahmakan', 'RentHop', 'Glio', 'Vanhawks', 'GetGoing',\n",
       "       'Hush', 'FundersClub', 'Nebia', 'Talkray', 'Swiftype', 'Backpack',\n",
       "       'Toymail', 'CrowdMed', 'VINEBOX', 'DrChrono', 'Instabug',\n",
       "       'Wheelys Café', 'Station', 'Polymail', 'Lyrebird', 'Snappr',\n",
       "       'Slite', 'Truebill', 'Scale', 'Final', 'Tetra', 'Elucify', 'Slik',\n",
       "       'Breaker', 'Pixate', 'VoiceOps', 'Bonsai', 'FloydHub', 'Honeydue',\n",
       "       'Glide', 'Standard Cyborg', 'Meetingbird', 'INKHUNTER',\n",
       "       'Clara Labs', 'Spoil', 'Fabric', 'Deepgram', 'Plato', 'Daily.co',\n",
       "       'Vanido', 'mojo', 'CoinTracker', 'Eight', 'SimpleCitizen',\n",
       "       'Supernova', 'CodeStream', 'Scribe', 'Airship', 'PatientBank',\n",
       "       'Flockjay', 'Brew.com', 'OpenPhone', 'Lattice', 'Wefunder',\n",
       "       'Shift', 'PlateJoy', 'Flynn', 'GoGoGrandparent', 'Marketfox',\n",
       "       'Handle.com', 'Airfordable', 'Mio', 'Gigster', 'Penny',\n",
       "       'PullRequest', 'Hivy', 'Whyd', 'Multiply Labs', 'Sudden Coffee',\n",
       "       'Playment', 'Pave', 'Lumi', 'Locent', 'Pathrise',\n",
       "       'Interstate Analytics', 'ScopeAI', 'Niles', 'Guggy', 'Bitmovin',\n",
       "       'Willing', 'Seed', 'LeadGenius', \"Players' Lounge\", 'Remix',\n",
       "       'Interviewed', 'Mux', 'Benchling', 'GO1', 'Plivo', 'RedCarpetUp',\n",
       "       'Theorem LP', 'BlueCrew', 'Enflux', 'Qventus', 'Universe',\n",
       "       'Armory', 'Bitrise', 'True Link', 'Humi', 'Heap', 'CrowdAI',\n",
       "       'Tingles', 'Zeus', 'Dealyze', 'Relativity Space', 'DroneBase',\n",
       "       'Supr Daily', 'Proof', 'Konsus', 'Focal Systems', 'Gemnote',\n",
       "       'InnerSpace', 'CowryWise', 'Flock Safety', 'SharpestMinds',\n",
       "       'BuildZoom', 'Airtime', 'RocketLit', 'Whirl', 'Gravitational',\n",
       "       'Mason', 'Tizeti', 'Astranis', 'Zinc Platform', 'OpenTrons',\n",
       "       'Fixed', 'One Month', 'GiftRocket', 'Ready For Zero', 'TARA',\n",
       "       'Shoobs', 'Ambition', 'Fanvibe', 'CodeNow', 'GiveMeTap',\n",
       "       'Goldbelly', 'Career Karma', 'Yhat', 'AirPair', 'Zidisha',\n",
       "       'Bountii', 'Booktrope', 'Replika', 'Close', 'Interana',\n",
       "       'New Story Charity', 'Insight Data Science', 'Grouper', 'Chute',\n",
       "       'FlightCar', 'Revl', 'Cofactor Genomics', 'Compose', 'Rocketrip',\n",
       "       'AppHarbor', 'Partnered', 'Backtype', 'Transcriptic', 'Ginza',\n",
       "       'Flightfox', 'Flotype', 'Lawdingo', 'Popular Pays', 'Amicus',\n",
       "       'Buttercoin', 'Lawn Love', 'Labdoor', 'Kicksend', 'Taplytics',\n",
       "       'Shift Labs', 'Beetailer', 'Next Caller', 'Semantics3', 'Siasto',\n",
       "       'ThinAir', 'AptDeco', 'Aisle50', 'AgileMD', 'Reebee', 'CircuitHub',\n",
       "       'Screenhero', 'Fridge', 'Arthena', 'Exec', 'AdGrok', 'Aptible',\n",
       "       'Liftigniter', 'Apozy', 'Naytev', 'Snapjoy', 'Ubiq', 'SigOpt',\n",
       "       'Vidpresso', 'Smyte', 'Habitat Logistics', 'Source', 'Unbabel',\n",
       "       'iCracked', 'FileStack', 'ZeroCater', 'Fullstack Academy',\n",
       "       'Oh My Green', 'Rainforest', 'Magic', 'Lob', 'Cue', 'inDinero',\n",
       "       'NURX', 'Fivetran', 'CareMessage', 'Panorama Education',\n",
       "       'All Screen', 'Cardpool', 'Flutter', 'Zencoder', 'Cloudkick',\n",
       "       'Perfect Audience', '280 North', 'Flightcaster', 'Movity',\n",
       "       'TalkBin', 'Omnisio', 'Meldium', 'Mertado', 'Appjet',\n",
       "       'SocialPicks', 'Parakey', 'Divvyshot', 'Auctomatic', 'Echodio',\n",
       "       'Project Wedding', 'Heysan', 'Etacts', 'Bufferbox', 'Lingt',\n",
       "       'reMail', 'TextPayMe', 'Sendoid', 'TapEngage', 'GazeHawk',\n",
       "       'Bitplay', 'Anywhere.FM', 'Stypi', 'Data Marketplace', 'VoiceGem',\n",
       "       'Hackermeter', 'Kiko', 'Slinkset', 'GraffitiGeo', 'Picwing'],\n",
       "      dtype=object)"
      ]
     },
     "execution_count": 51,
     "metadata": {},
     "output_type": "execute_result"
    }
   ],
   "source": [
    "mergedRankings['noms'].unique()"
   ]
  }
 ],
 "metadata": {
  "kernelspec": {
   "display_name": "Python 3",
   "language": "python",
   "name": "python3"
  },
  "language_info": {
   "codemirror_mode": {
    "name": "ipython",
    "version": 3
   },
   "file_extension": ".py",
   "mimetype": "text/x-python",
   "name": "python",
   "nbconvert_exporter": "python",
   "pygments_lexer": "ipython3",
   "version": "3.7.1"
  }
 },
 "nbformat": 4,
 "nbformat_minor": 2
}
