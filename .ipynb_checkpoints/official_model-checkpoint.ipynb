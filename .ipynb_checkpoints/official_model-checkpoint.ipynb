{
 "cells": [
  {
   "cell_type": "markdown",
   "metadata": {},
   "source": [
    "# Etape I: Import des packages nécessaires"
   ]
  },
  {
   "cell_type": "code",
   "execution_count": 1,
   "metadata": {},
   "outputs": [],
   "source": [
    "import numpy as np\n",
    "import pandas as pd\n",
    "import matplotlib as plt\n",
    "from bs4 import BeautifulSoup\n",
    "from requests import get\n",
    "from tqdm import tqdm\n",
    "import urllib"
   ]
  },
  {
   "cell_type": "markdown",
   "metadata": {},
   "source": [
    "# Créer une fonction permettant d'automatiser le scrap par la suite"
   ]
  },
  {
   "cell_type": "code",
   "execution_count": 44,
   "metadata": {},
   "outputs": [],
   "source": [
    "def y_combinator_scraper(url_user):\n",
    "    \n",
    "    '''Appeler l\\'URL à scraper '''\n",
    "    url = url_user\n",
    "    response = get(url)\n",
    "    \n",
    "    '''Lancer une session BeautifulSoup, localiser puis stocker l'adresse de localisaiton du contenu de la page'''\n",
    "    soup = BeautifulSoup(response.text, 'html.parser')    \n",
    "    my_table = soup.find('table','table')\n",
    "    \n",
    "    ''' Initialisation des listes que nous rempliront par la suite '''\n",
    "    noms = []\n",
    "    batch = []\n",
    "    categories = []\n",
    "    descriptions = []\n",
    "    exit_value = []\n",
    "    #images = []\n",
    "\n",
    "    '''Répertorier les emplacements des éléments recherchés'''\n",
    "    names = my_table.find_all('a')\n",
    "    batches = my_table.find_all('td', 'd-none d-md-table-cell')[0::2]\n",
    "    category = my_table.find_all('td', 'd-none d-md-table-cell')[1::2]\n",
    "    description = my_table.find_all('td', 'd-none d-md-table-cell ellipsis')\n",
    "    levee = my_table.find_all('td', 'text-right')\n",
    "    #image = my_table.find_all('img')\n",
    "    \n",
    "    '''Créer une boucle permettant de parcourir l'arborescence de la page html et d'en sortir les informations (ci-dessus)\n",
    "        pour chaque lignes du classement'''\n",
    "    #for i in tqdm(my_table):       \n",
    "\n",
    "    '''Noms'''\n",
    "    for y in names:       \n",
    "        nam = y.text.strip()\n",
    "        noms.append(nam)\n",
    "\n",
    "    '''Batch'''\n",
    "    for y in batches:\n",
    "        bat = y.text\n",
    "        batch.append(bat)\n",
    "\n",
    "    '''Catégories'''\n",
    "    for y in category:\n",
    "        cat = y.text\n",
    "        categories.append(cat)\n",
    "\n",
    "    '''Descriptions'''\n",
    "    for y in description:\n",
    "        des = y.text\n",
    "        descriptions.append(des)\n",
    "\n",
    "    '''Levée de fonds total'''\n",
    "    for y in levee:\n",
    "        lev = y.text\n",
    "        exit_value.append(lev)\n",
    "\n",
    "    '''Logo\n",
    "    for y in image:\n",
    "        img = y.get('src')\n",
    "        download_img = get(img)\n",
    "        images.append(download_img)'''\n",
    "\n",
    "    datas = np.column_stack((noms,batch,categories,descriptions,exit_value))\n",
    "    df = pd.DataFrame(datas, columns=['noms', 'batch', 'categories', 'descriptions', 'exit_value'])\n",
    "    df.to_excel(excel_writer='ranking11_exit_value.xlsx') \n",
    "\n",
    "    '''ATTENTION: les images seront à remettre dans le rendu final'''"
   ]
  },
  {
   "cell_type": "markdown",
   "metadata": {},
   "source": [
    "# Liste des urls à scrapper"
   ]
  },
  {
   "cell_type": "code",
   "execution_count": 45,
   "metadata": {},
   "outputs": [],
   "source": [
    "url_funding = 'https://www.ycdb.co/top-companies/funding'\n",
    "url_visited = 'https://www.ycdb.co/top-companies/alexa-rank'\n",
    "url_popular = 'https://www.ycdb.co/top-companies/twitter-followers'\n",
    "url_authoritative = 'https://www.ycdb.co/top-companies/domain-authority'\n",
    "url_liked = 'https://www.ycdb.co/top-companies/facebook-likes'\n",
    "url_upvoted = 'https://www.ycdb.co/top-companies/product-hunt-votes'\n",
    "url_growing = 'https://www.ycdb.co/top-companies/growth-score'\n",
    "url_prolific = 'https://www.ycdb.co/top-companies/tweet-count'\n",
    "url_influential = 'https://www.ycdb.co/top-companies/linkedin-followers'\n",
    "url_populous = 'https://www.ycdb.co/top-companies/employees'\n",
    "url_exit_value = 'https://www.ycdb.co/top-companies/exit-value'\n",
    "\n",
    "urls = [url_funding, url_visited, url_popular, url_authoritative, url_liked, url_upvoted, url_growing, url_prolific, url_influential, url_populous, url_exit_value]"
   ]
  },
  {
   "cell_type": "code",
   "execution_count": 46,
   "metadata": {},
   "outputs": [],
   "source": [
    "y_combinator_scraper(url_exit_value)"
   ]
  },
  {
   "cell_type": "code",
   "execution_count": 65,
   "metadata": {},
   "outputs": [
    {
     "name": "stderr",
     "output_type": "stream",
     "text": [
      "100%|████████████████████████████████████████████████████████████████████████████████████| 5/5 [00:01<00:00,  3.84it/s]\n",
      "100%|████████████████████████████████████████████████████████████████████████████████████| 5/5 [00:01<00:00,  3.90it/s]\n",
      "100%|████████████████████████████████████████████████████████████████████████████████████| 5/5 [00:01<00:00,  3.84it/s]\n",
      "100%|████████████████████████████████████████████████████████████████████████████████████| 5/5 [00:01<00:00,  4.19it/s]\n",
      "100%|████████████████████████████████████████████████████████████████████████████████████| 5/5 [00:01<00:00,  3.81it/s]\n",
      "100%|████████████████████████████████████████████████████████████████████████████████████| 5/5 [00:01<00:00,  3.93it/s]\n",
      "100%|████████████████████████████████████████████████████████████████████████████████████| 5/5 [00:01<00:00,  3.98it/s]\n",
      "100%|████████████████████████████████████████████████████████████████████████████████████| 5/5 [00:01<00:00,  3.91it/s]\n",
      "100%|████████████████████████████████████████████████████████████████████████████████████| 5/5 [00:01<00:00,  4.68it/s]\n",
      "100%|████████████████████████████████████████████████████████████████████████████████████| 5/5 [00:01<00:00,  3.94it/s]\n",
      "100%|████████████████████████████████████████████████████████████████████████████████████| 5/5 [00:01<00:00,  4.58it/s]\n"
     ]
    }
   ],
   "source": [
    "for i in urls:\n",
    "    y_combinator_scraper(i)"
   ]
  }
 ],
 "metadata": {
  "kernelspec": {
   "display_name": "Python 3",
   "language": "python",
   "name": "python3"
  },
  "language_info": {
   "codemirror_mode": {
    "name": "ipython",
    "version": 3
   },
   "file_extension": ".py",
   "mimetype": "text/x-python",
   "name": "python",
   "nbconvert_exporter": "python",
   "pygments_lexer": "ipython3",
   "version": "3.7.1"
  }
 },
 "nbformat": 4,
 "nbformat_minor": 2
}
