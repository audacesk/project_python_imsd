{
 "cells": [
  {
   "cell_type": "code",
   "execution_count": 1,
   "metadata": {},
   "outputs": [],
   "source": [
    "import pandas as pd"
   ]
  },
  {
   "cell_type": "code",
   "execution_count": 2,
   "metadata": {},
   "outputs": [],
   "source": [
    "#path_1 = r'C:/Users/moham/OneDrive/Bureau/Cours/M2 IMSD/Python/Projet/project_python_imsd-master/'\n",
    "path_2 = 'D:/_IMSD/Python/Project/rankings/'"
   ]
  },
  {
   "cell_type": "code",
   "execution_count": 3,
   "metadata": {},
   "outputs": [],
   "source": [
    "### Ranking 1 : The Most Funded\n",
    "#funding = pd.read_excel('C:/Users/moham/OneDrive/Bureau/Cours/M2 IMSD/Python/Projet/project_python_imsd-master/ranking_1.xlsx', header = 0)\n",
    "#funding = pd.read_excel(r'D:\\_IMSD\\Python\\Project\\rankings\\ranking_1_funding.xlsx', header=0)\n",
    "#funding = pd.read_excel(path_1 + 'ranking_1_funding.xlsx', header=0)\n",
    "funding = pd.read_excel(path_2 + 'ranking_1_funding.xlsx', header=0)\n",
    "\n",
    "### Ranking 2 : The most visited (alexaRank)\n",
    "#alexaRank = pd.read_excel('C:/Users/moham/OneDrive/Bureau/Cours/M2 IMSD/Python/Projet/project_python_imsd-master/ranking_2.xlsx', header = 0)\n",
    "#alexa_rank = pd.read_excel(path_1 + 'ranking_2_alexa-rank.xlsx', header=0)\n",
    "alexa_rank = pd.read_excel(path_2 + 'ranking_2_alexa-rank.xlsx', header=0)\n",
    "\n",
    "### Ranking 3 : The most popular (twitter followers)\n",
    "#twitterFollowers = pd.read_excel('C:/Users/moham/OneDrive/Bureau/Cours/M2 IMSD/Python/Projet/project_python_imsd-master/ranking_3.xlsx', header = 0)\n",
    "#twitter_followers = pd.read_excel(path_1 + 'ranking_3_twitter-followers.xlsx', header=0)\n",
    "twitter_followers = pd.read_excel(path_2 + 'ranking_3_twitter-followers.xlsx', header=0)\n",
    "\n",
    "### Ranking 4 : The Most Authoritative\n",
    "#domainAuthority = pd.read_excel('C:/Users/moham/OneDrive/Bureau/Cours/M2 IMSD/Python/Projet/project_python_imsd-master/ranking_4.xlsx', header = 0)\n",
    "#domain_authority = pd.read_excel(path_1 + 'ranking_4_domain-authority.xlsx', header = 0)\n",
    "domain_authority = pd.read_excel(path_2 + 'ranking_4_domain-authority.xlsx', header = 0)\n",
    "\n",
    "### Ranking 5 : The most liked (on facebook)\n",
    "#facebookLikes = pd.read_excel('C:/Users/moham/OneDrive/Bureau/Cours/M2 IMSD/Python/Projet/project_python_imsd-master/ranking_5.xlsx', header = 0)\n",
    "#facebook_likes = pd.read_excel(path_1 + 'ranking_5_facebook-likes.xlsx', header = 0)\n",
    "facebook_likes = pd.read_excel(path_2 + 'ranking_5_facebook-likes.xlsx', header = 0)\n",
    "\n",
    "### Ranking 6 : The Most Upvoted\n",
    "#huntVotes = pd.read_excel('C:/Users/moham/OneDrive/Bureau/Cours/M2 IMSD/Python/Projet/project_python_imsd-master/ranking_6.xlsx', header = 0)\n",
    "#hunt_votes = pd.read_excel(path_1 + 'ranking_6_product-hunt-votes.xlsx', header = 0)\n",
    "hunt_votes = pd.read_excel(path_2 + 'ranking_6_product-hunt-votes.xlsx', header = 0)\n",
    "\n",
    "### Ranking 7 : The Fastest Growing\n",
    "#growthScore = pd.read_excel('C:/Users/moham/OneDrive/Bureau/Cours/M2 IMSD/Python/Projet/project_python_imsd-master/ranking_7.xlsx', header = 0)\n",
    "#growth_score = pd.read_excel(path_1 + 'ranking_7_growth-score.xlsx', header = 0)\n",
    "growth_score = pd.read_excel(path_2 + 'ranking_7_growth-score.xlsx', header = 0)\n",
    "\n",
    "### Ranking 8 : The Most Prolific (number of statuses posted on company Twitter account)\n",
    "#tweetCount = pd.read_excel('C:/Users/moham/OneDrive/Bureau/Cours/M2 IMSD/Python/Projet/project_python_imsd-master/ranking_8.xlsx', header = 0)\n",
    "tweet_count = pd.read_excel(path_2 + 'ranking_8_tweet-count.xlsx', header = 0)\n",
    "\n",
    "### Ranking 9 : The Most Influential (LinkedIn followers)\n",
    "#linkedinFollowers = pd.read_excel('C:/Users/moham/OneDrive/Bureau/Cours/M2 IMSD/Python/Projet/project_python_imsd-master/ranking_9.xlsx', header = 0)\n",
    "#linkedin_followers = pd.read_excel(path_1 + 'ranking_9_linkedin-followers.xlsx', header = 0)\n",
    "linkedin_followers = pd.read_excel(path_2 + 'ranking_9_linkedin-followers.xlsx', header = 0)\n",
    "\n",
    "### Ranking 10 : The Most populous\n",
    "#employeesCount = pd.read_excel('C:/Users/moham/OneDrive/Bureau/Cours/M2 IMSD/Python/Projet/project_python_imsd-master/ranking_10.xlsx', header = 0)\n",
    "#employees_count = pd.read_excel(path_1 + 'ranking_10_employees.xlsx', header = 0)\n",
    "employees_count = pd.read_excel(path_2 + 'ranking_10_employees.xlsx', header = 0)\n",
    "\n",
    "### Ranking 11 : The Most Cashed Out\n",
    "#exitValue = pd.read_excel('C:/Users/moham/OneDrive/Bureau/Cours/M2 IMSD/Python/Projet/project_python_imsd-master/ranking_11.xlsx', header = 0)\n",
    "#exit_value = pd.read_excel(path_1 + 'ranking_11_exit-value.xlsx', header = 0)\n",
    "exit_value = pd.read_excel(path_2 + 'ranking_11_exit-value.xlsx', header = 0)"
   ]
  },
  {
   "cell_type": "code",
   "execution_count": 7,
   "metadata": {},
   "outputs": [],
   "source": [
    "# merge all dataset on 'noms'"
   ]
  },
  {
   "cell_type": "code",
   "execution_count": 6,
   "metadata": {},
   "outputs": [
    {
     "name": "stdout",
     "output_type": "stream",
     "text": [
      "<class 'pandas.core.frame.DataFrame'>\n",
      "RangeIndex: 100 entries, 0 to 99\n",
      "Data columns (total 6 columns):\n",
      "Unnamed: 0      100 non-null int64\n",
      "noms            100 non-null object\n",
      "batch           100 non-null object\n",
      "categories      100 non-null object\n",
      "descriptions    100 non-null object\n",
      "funding         100 non-null object\n",
      "dtypes: int64(1), object(5)\n",
      "memory usage: 4.8+ KB\n"
     ]
    }
   ],
   "source": [
    "funding.info()"
   ]
  },
  {
   "cell_type": "code",
   "execution_count": null,
   "metadata": {},
   "outputs": [],
   "source": []
  }
 ],
 "metadata": {
  "kernelspec": {
   "display_name": "Python 3",
   "language": "python",
   "name": "python3"
  },
  "language_info": {
   "codemirror_mode": {
    "name": "ipython",
    "version": 3
   },
   "file_extension": ".py",
   "mimetype": "text/x-python",
   "name": "python",
   "nbconvert_exporter": "python",
   "pygments_lexer": "ipython3",
   "version": "3.7.1"
  }
 },
 "nbformat": 4,
 "nbformat_minor": 2
}
