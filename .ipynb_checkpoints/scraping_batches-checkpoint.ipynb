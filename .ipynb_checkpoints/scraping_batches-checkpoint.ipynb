{
 "cells": [
  {
   "cell_type": "code",
   "execution_count": 2,
   "metadata": {},
   "outputs": [],
   "source": [
    "import numpy as np\n",
    "import pandas as pd\n",
    "import matplotlib as plt\n",
    "from bs4 import BeautifulSoup\n",
    "from requests import get\n",
    "from tqdm import tqdm\n",
    "import urllib\n",
    "import re"
   ]
  },
  {
   "cell_type": "code",
   "execution_count": 32,
   "metadata": {},
   "outputs": [],
   "source": [
    "def scraping_bacthes():\n",
    "    # Listing des URLs à scraper\n",
    "    s_05 = 'https://www.ycdb.co/batch/s05'\n",
    "    w_06 = 'https://www.ycdb.co/batch/w06'\n",
    "    s_06 = 'https://www.ycdb.co/batch/s06'\n",
    "    w_07 = 'https://www.ycdb.co/batch/w07'\n",
    "    s_07 = 'https://www.ycdb.co/batch/s07'\n",
    "    w_08 = 'https://www.ycdb.co/batch/w08'\n",
    "    s_08 = 'https://www.ycdb.co/batch/s08'\n",
    "    w_09 = 'https://www.ycdb.co/batch/w09'\n",
    "    s_09 = 'https://www.ycdb.co/batch/s09'\n",
    "    w_10 = 'https://www.ycdb.co/batch/w10'\n",
    "    s_10 = 'https://www.ycdb.co/batch/s10'\n",
    "    w_11 = 'https://www.ycdb.co/batch/w11'\n",
    "    s_11 = 'https://www.ycdb.co/batch/s11'\n",
    "    w_12 = 'https://www.ycdb.co/batch/w12'\n",
    "    s_12 = 'https://www.ycdb.co/batch/s12'\n",
    "    w_13 = 'https://www.ycdb.co/batch/w13'\n",
    "    s_13 = 'https://www.ycdb.co/batch/s13'\n",
    "    w_14 = 'https://www.ycdb.co/batch/w14'\n",
    "    s_14 = 'https://www.ycdb.co/batch/s14'\n",
    "    w_15 = 'https://www.ycdb.co/batch/w15'\n",
    "    s_15 = 'https://www.ycdb.co/batch/s15'\n",
    "    w_16 = 'https://www.ycdb.co/batch/w16'\n",
    "    s_16 = 'https://www.ycdb.co/batch/s16'\n",
    "    w_17 = 'https://www.ycdb.co/batch/w17'\n",
    "    s_17 = 'https://www.ycdb.co/batch/s17'\n",
    "    w_18 = 'https://www.ycdb.co/batch/w18'\n",
    "    s_18 = 'https://www.ycdb.co/batch/s18'\n",
    "    w_19 = 'https://www.ycdb.co/batch/w19'\n",
    "\n",
    "    # Liste python regroupant les URLs mentionnées. Cette liste va permettre d'itérer la fonction sur chaque lien recherché\n",
    "    urls = [s_05, w_06, s_06, w_07, s_07, w_08, s_08, w_09, s_09, w_10, s_10,\n",
    "            w_11, s_11, w_12, s_12, w_13, s_13, w_14, s_14, w_15, s_15, w_16,\n",
    "            s_16, w_17, s_17, w_18, s_18, w_19        \n",
    "    ]\n",
    "        \n",
    "    \n",
    "    # A la fin de la fonction, cette variable sera incrémenter de +1 pour ajouter au nom du fichier excel exporté son numéro\n",
    "    rank = 0\n",
    "    \n",
    "    # Début de la bouble itérative\n",
    "    for i in urls:\n",
    "        # Appeler l'URL à scraper\n",
    "        url = based_url + i\n",
    "        response = get(url)\n",
    "        \n",
    "        # Lancer une session BeautifulSoup, localiser puis stocker l'adresse de localisaiton du contenu de la page\n",
    "        soup = BeautifulSoup(response.text, 'html.parser')    \n",
    "        my_table = soup.find('table','table')"
   ]
  },
  {
   "cell_type": "code",
   "execution_count": 42,
   "metadata": {},
   "outputs": [],
   "source": [
    "# imports\n",
    "from selenium import webdriver\n",
    "from selenium.webdriver.common.keys import Keys\n",
    "from selenium.webdriver.support.ui import WebDriverWait\n",
    "from bs4 import BeautifulSoup\n",
    "import pandas as pd\n",
    "import re\n",
    "import os\n",
    "import time"
   ]
  },
  {
   "cell_type": "code",
   "execution_count": 43,
   "metadata": {},
   "outputs": [],
   "source": [
    "# website urls\n",
    "w_10 = 'https://www.ycdb.co/batch/w10'"
   ]
  },
  {
   "cell_type": "code",
   "execution_count": 44,
   "metadata": {},
   "outputs": [],
   "source": [
    "# Firefox session\n",
    "driver = webdriver.Firefox()\n",
    "driver.get(w_10)\n",
    "driver.implicitly_wait(100)"
   ]
  },
  {
   "cell_type": "code",
   "execution_count": 28,
   "metadata": {},
   "outputs": [],
   "source": [
    "driver.delete_all_cookies()"
   ]
  },
  {
   "cell_type": "code",
   "execution_count": 45,
   "metadata": {},
   "outputs": [
    {
     "data": {
      "text/plain": [
       "'\\nfind_element_by_id\\nfind_element_by_name\\nfind_element_by_xpath\\nfind_element_by_link_text\\nfind_element_by_partial_link_text\\nfind_element_by_tag_name\\nfind_element_by_class_name\\nfind_element_by_css_selector\\n\\nfind_elements_by_name\\nfind_elements_by_xpath\\nfind_elements_by_link_text\\nfind_elements_by_partial_link_text\\nfind_elements_by_tag_name\\nfind_elements_by_class_name\\nfind_elements_by_css_selector\\n'"
      ]
     },
     "execution_count": 45,
     "metadata": {},
     "output_type": "execute_result"
    }
   ],
   "source": [
    "'''\n",
    "find_element_by_id\n",
    "find_element_by_name\n",
    "find_element_by_xpath\n",
    "find_element_by_link_text\n",
    "find_element_by_partial_link_text\n",
    "find_element_by_tag_name\n",
    "find_element_by_class_name\n",
    "find_element_by_css_selector\n",
    "\n",
    "find_elements_by_name\n",
    "find_elements_by_xpath\n",
    "find_elements_by_link_text\n",
    "find_elements_by_partial_link_text\n",
    "find_elements_by_tag_name\n",
    "find_elements_by_class_name\n",
    "find_elements_by_css_selector\n",
    "'''"
   ]
  },
  {
   "cell_type": "code",
   "execution_count": 47,
   "metadata": {},
   "outputs": [],
   "source": [
    "searchbox = driver.find_element_by_xpath('/html/body/div[1]/div[1]/div[2]/div/div[3]/div[2]/div/ul/li[5]/a').click()"
   ]
  },
  {
   "cell_type": "code",
   "execution_count": 37,
   "metadata": {},
   "outputs": [
    {
     "name": "stdout",
     "output_type": "stream",
     "text": [
      "<selenium.webdriver.firefox.webelement.FirefoxWebElement (session=\"01d4214d-e8da-475b-a4cd-bb0421a62ed7\", element=\"c797bde6-136c-4bcb-84c1-5748ec6b1ca3\")>\n"
     ]
    }
   ],
   "source": [
    "print(searchbox)"
   ]
  },
  {
   "cell_type": "code",
   "execution_count": null,
   "metadata": {},
   "outputs": [],
   "source": []
  }
 ],
 "metadata": {
  "kernelspec": {
   "display_name": "Python 3",
   "language": "python",
   "name": "python3"
  },
  "language_info": {
   "codemirror_mode": {
    "name": "ipython",
    "version": 3
   },
   "file_extension": ".py",
   "mimetype": "text/x-python",
   "name": "python",
   "nbconvert_exporter": "python",
   "pygments_lexer": "ipython3",
   "version": "3.7.1"
  }
 },
 "nbformat": 4,
 "nbformat_minor": 2
}
