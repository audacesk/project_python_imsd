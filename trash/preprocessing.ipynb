{
 "cells": [
  {
   "cell_type": "code",
   "execution_count": 90,
   "metadata": {},
   "outputs": [],
   "source": [
    "import pandas as pd\n",
    "from functools import reduce\n",
    "import matplotlib.pyplot as plt"
   ]
  },
  {
   "cell_type": "code",
   "execution_count": 2,
   "metadata": {},
   "outputs": [],
   "source": [
    "### Ranking 1 : The Most Funded\n",
    "funding = pd.read_excel('C:/Users/moham/OneDrive/Bureau/Cours/M2 IMSD/Python/Projet/project_python_imsd-master/ranking_1.xlsx', header = 0)\n",
    "### Ranking 2 : The most visited (alexaRank)\n",
    "alexaRank = pd.read_excel('C:/Users/moham/OneDrive/Bureau/Cours/M2 IMSD/Python/Projet/project_python_imsd-master/ranking_2.xlsx', header = 0)\n",
    "### Ranking 3 : The most popular (twitter followers)\n",
    "twitterFollowers = pd.read_excel('C:/Users/moham/OneDrive/Bureau/Cours/M2 IMSD/Python/Projet/project_python_imsd-master/ranking_3.xlsx', header = 0)\n",
    "### Ranking 4 : The Most Authoritative\n",
    "domainAuthority = pd.read_excel('C:/Users/moham/OneDrive/Bureau/Cours/M2 IMSD/Python/Projet/project_python_imsd-master/ranking_4.xlsx', header = 0)\n",
    "### Ranking 5 : The most liked (on facebook)\n",
    "facebookLikes = pd.read_excel('C:/Users/moham/OneDrive/Bureau/Cours/M2 IMSD/Python/Projet/project_python_imsd-master/ranking_5.xlsx', header = 0)\n",
    "### Ranking 6 : The Most Upvoted\n",
    "huntVotes = pd.read_excel('C:/Users/moham/OneDrive/Bureau/Cours/M2 IMSD/Python/Projet/project_python_imsd-master/ranking_6.xlsx', header = 0)\n",
    "### Ranking 7 : The Fastest Growing\n",
    "growthScore = pd.read_excel('C:/Users/moham/OneDrive/Bureau/Cours/M2 IMSD/Python/Projet/project_python_imsd-master/ranking_7.xlsx', header = 0)\n",
    "### Ranking 8 : The Most Prolific (number of statuses posted on company Twitter account)\n",
    "tweetCount = pd.read_excel('C:/Users/moham/OneDrive/Bureau/Cours/M2 IMSD/Python/Projet/project_python_imsd-master/ranking_8.xlsx', header = 0)\n",
    "### Ranking 9 : The Most Influential (LinkedIn followers)\n",
    "linkedinFollowers = pd.read_excel('C:/Users/moham/OneDrive/Bureau/Cours/M2 IMSD/Python/Projet/project_python_imsd-master/ranking_9.xlsx', header = 0)\n",
    "### Ranking 10 : The Most populous\n",
    "employeesCount = pd.read_excel('C:/Users/moham/OneDrive/Bureau/Cours/M2 IMSD/Python/Projet/project_python_imsd-master/ranking_10.xlsx', header = 0)\n",
    "### Ranking 11 : The Most Cashed Out\n",
    "exitValue = pd.read_excel('C:/Users/moham/OneDrive/Bureau/Cours/M2 IMSD/Python/Projet/project_python_imsd-master/ranking_11.xlsx', header = 0)"
   ]
  },
  {
   "cell_type": "code",
   "execution_count": 3,
   "metadata": {},
   "outputs": [
    {
     "data": {
      "text/html": [
       "<div>\n",
       "<style scoped>\n",
       "    .dataframe tbody tr th:only-of-type {\n",
       "        vertical-align: middle;\n",
       "    }\n",
       "\n",
       "    .dataframe tbody tr th {\n",
       "        vertical-align: top;\n",
       "    }\n",
       "\n",
       "    .dataframe thead th {\n",
       "        text-align: right;\n",
       "    }\n",
       "</style>\n",
       "<table border=\"1\" class=\"dataframe\">\n",
       "  <thead>\n",
       "    <tr style=\"text-align: right;\">\n",
       "      <th></th>\n",
       "      <th>noms</th>\n",
       "      <th>batch</th>\n",
       "      <th>categories</th>\n",
       "      <th>descriptions</th>\n",
       "      <th>variable</th>\n",
       "    </tr>\n",
       "  </thead>\n",
       "  <tbody>\n",
       "    <tr>\n",
       "      <th>0</th>\n",
       "      <td>Airbnb</td>\n",
       "      <td>W09</td>\n",
       "      <td>Consumer</td>\n",
       "      <td>Book accommodations around the world</td>\n",
       "      <td>$6,000.3m</td>\n",
       "    </tr>\n",
       "    <tr>\n",
       "      <th>1</th>\n",
       "      <td>Cruise</td>\n",
       "      <td>W14</td>\n",
       "      <td>Transport</td>\n",
       "      <td>Self-driving cars.</td>\n",
       "      <td>$3,368.8m</td>\n",
       "    </tr>\n",
       "    <tr>\n",
       "      <th>2</th>\n",
       "      <td>Instacart</td>\n",
       "      <td>S12</td>\n",
       "      <td>Consumer</td>\n",
       "      <td>Groceries delivered fast.</td>\n",
       "      <td>$2,095.9m</td>\n",
       "    </tr>\n",
       "    <tr>\n",
       "      <th>3</th>\n",
       "      <td>Dropbox</td>\n",
       "      <td>S07</td>\n",
       "      <td>Other SaaS</td>\n",
       "      <td>Backup and share files in the cloud.</td>\n",
       "      <td>$2,057.2m</td>\n",
       "    </tr>\n",
       "    <tr>\n",
       "      <th>4</th>\n",
       "      <td>DoorDash</td>\n",
       "      <td>S13</td>\n",
       "      <td>Consumer</td>\n",
       "      <td>Restaurant delivery.</td>\n",
       "      <td>$2,000.0m</td>\n",
       "    </tr>\n",
       "  </tbody>\n",
       "</table>\n",
       "</div>"
      ],
      "text/plain": [
       "        noms batch  categories                          descriptions  \\\n",
       "0     Airbnb   W09    Consumer  Book accommodations around the world   \n",
       "1     Cruise   W14   Transport                    Self-driving cars.   \n",
       "2  Instacart   S12    Consumer             Groceries delivered fast.   \n",
       "3    Dropbox   S07  Other SaaS  Backup and share files in the cloud.   \n",
       "4   DoorDash   S13    Consumer                  Restaurant delivery.   \n",
       "\n",
       "    variable  \n",
       "0  $6,000.3m  \n",
       "1  $3,368.8m  \n",
       "2  $2,095.9m  \n",
       "3  $2,057.2m  \n",
       "4  $2,000.0m  "
      ]
     },
     "execution_count": 3,
     "metadata": {},
     "output_type": "execute_result"
    }
   ],
   "source": [
    "funding.head()"
   ]
  },
  {
   "cell_type": "code",
   "execution_count": 4,
   "metadata": {},
   "outputs": [
    {
     "name": "stdout",
     "output_type": "stream",
     "text": [
      "<class 'pandas.core.frame.DataFrame'>\n",
      "Int64Index: 100 entries, 0 to 99\n",
      "Data columns (total 5 columns):\n",
      "noms            100 non-null object\n",
      "batch           100 non-null object\n",
      "categories      100 non-null object\n",
      "descriptions    100 non-null object\n",
      "variable        100 non-null object\n",
      "dtypes: object(5)\n",
      "memory usage: 4.7+ KB\n"
     ]
    }
   ],
   "source": [
    "funding.info()"
   ]
  },
  {
   "cell_type": "code",
   "execution_count": 5,
   "metadata": {},
   "outputs": [],
   "source": [
    "### Create a list with all the ranking datasets\n",
    "rankings = [funding, alexaRank, twitterFollowers, domainAuthority, facebookLikes, huntVotes, growthScore, tweetCount, linkedinFollowers, employeesCount, exitValue]"
   ]
  },
  {
   "cell_type": "code",
   "execution_count": 6,
   "metadata": {},
   "outputs": [],
   "source": [
    "### On va travailler à la fois sur chaque dataframe séparément (pour avoir l'info du classement, combiner les dataframe\n",
    "### deux à deux etc.) mais aussi sur l'ensemble. Je fusionne l'ensemble plus tard."
   ]
  },
  {
   "cell_type": "code",
   "execution_count": 7,
   "metadata": {},
   "outputs": [],
   "source": [
    "### Supprimer les $ et les m :\n",
    "for dataset in [funding, exitValue]:\n",
    "    dataset['variable'] = dataset['variable'].str[1:-1]"
   ]
  },
  {
   "cell_type": "code",
   "execution_count": 8,
   "metadata": {},
   "outputs": [],
   "source": [
    "# Créer une fonction pour obtenir le nom du dataframe\n",
    "def get_df_name(df):\n",
    "    name =[x for x in globals() if globals()[x] is df][0]\n",
    "    return name"
   ]
  },
  {
   "cell_type": "code",
   "execution_count": 9,
   "metadata": {},
   "outputs": [
    {
     "name": "stdout",
     "output_type": "stream",
     "text": [
      "La variable du dataframe domainAuthority est déjà sous une forme adaptée.\n"
     ]
    }
   ],
   "source": [
    "# Enlever les virgules des milliers pour les colonnes qui en ont, et \n",
    "for dataset in rankings:\n",
    "    if (dataset['variable'].dtype != 'int64') & (dataset['variable'].dtype != 'float64'):\n",
    "        for count, value in enumerate(dataset['variable']):\n",
    "            dataset.replace(dataset['variable'][count], value.replace(',', ''), inplace=True)\n",
    "    else:\n",
    "        print('La variable du dataframe ' + get_df_name(dataset) + ' est déjà sous une forme adaptée.')"
   ]
  },
  {
   "cell_type": "code",
   "execution_count": 10,
   "metadata": {},
   "outputs": [],
   "source": [
    "# Passer la variable d'intérêt d'objet à float.\n",
    "for dataset in rankings:\n",
    "    if (dataset['variable'].dtype != 'int64') & (dataset['variable'].dtype != 'float64'):\n",
    "        for value in dataset['variable']:\n",
    "            dataset = dataset.astype({'variable': 'float64'})"
   ]
  },
  {
   "cell_type": "code",
   "execution_count": 11,
   "metadata": {},
   "outputs": [],
   "source": [
    "# Changer le nom de la variable d'intérêt de chaque dataframe.\n",
    "for dataset in rankings:\n",
    "    dataset.rename(columns={'variable': get_df_name(dataset)}, inplace=True)"
   ]
  },
  {
   "cell_type": "code",
   "execution_count": 13,
   "metadata": {},
   "outputs": [],
   "source": [
    "# Combiner les dataframe en un gros réunissant tout\n",
    "mergedRankings = reduce(lambda  left,right: pd.merge(left,right,on=['noms', 'batch', 'categories', 'descriptions'],\n",
    "                                            how='outer'), rankings)"
   ]
  },
  {
   "cell_type": "code",
   "execution_count": 14,
   "metadata": {},
   "outputs": [
    {
     "data": {
      "text/html": [
       "<div>\n",
       "<style scoped>\n",
       "    .dataframe tbody tr th:only-of-type {\n",
       "        vertical-align: middle;\n",
       "    }\n",
       "\n",
       "    .dataframe tbody tr th {\n",
       "        vertical-align: top;\n",
       "    }\n",
       "\n",
       "    .dataframe thead th {\n",
       "        text-align: right;\n",
       "    }\n",
       "</style>\n",
       "<table border=\"1\" class=\"dataframe\">\n",
       "  <thead>\n",
       "    <tr style=\"text-align: right;\">\n",
       "      <th></th>\n",
       "      <th>noms</th>\n",
       "      <th>batch</th>\n",
       "      <th>categories</th>\n",
       "      <th>descriptions</th>\n",
       "      <th>funding</th>\n",
       "      <th>alexaRank</th>\n",
       "      <th>twitterFollowers</th>\n",
       "      <th>domainAuthority</th>\n",
       "      <th>facebookLikes</th>\n",
       "      <th>huntVotes</th>\n",
       "      <th>growthScore</th>\n",
       "      <th>tweetCount</th>\n",
       "      <th>linkedinFollowers</th>\n",
       "      <th>employeesCount</th>\n",
       "      <th>exitValue</th>\n",
       "    </tr>\n",
       "  </thead>\n",
       "  <tbody>\n",
       "    <tr>\n",
       "      <th>0</th>\n",
       "      <td>Airbnb</td>\n",
       "      <td>W09</td>\n",
       "      <td>Consumer</td>\n",
       "      <td>Book accommodations around the world</td>\n",
       "      <td>6000.3</td>\n",
       "      <td>234</td>\n",
       "      <td>695116</td>\n",
       "      <td>91.0</td>\n",
       "      <td>8754088</td>\n",
       "      <td>NaN</td>\n",
       "      <td>600</td>\n",
       "      <td>39485</td>\n",
       "      <td>NaN</td>\n",
       "      <td>6100</td>\n",
       "      <td>NaN</td>\n",
       "    </tr>\n",
       "    <tr>\n",
       "      <th>1</th>\n",
       "      <td>Cruise</td>\n",
       "      <td>W14</td>\n",
       "      <td>Transport</td>\n",
       "      <td>Self-driving cars.</td>\n",
       "      <td>3368.8</td>\n",
       "      <td>NaN</td>\n",
       "      <td>NaN</td>\n",
       "      <td>NaN</td>\n",
       "      <td>NaN</td>\n",
       "      <td>NaN</td>\n",
       "      <td>NaN</td>\n",
       "      <td>NaN</td>\n",
       "      <td>NaN</td>\n",
       "      <td>1770</td>\n",
       "      <td>1000.0</td>\n",
       "    </tr>\n",
       "    <tr>\n",
       "      <th>2</th>\n",
       "      <td>Instacart</td>\n",
       "      <td>S12</td>\n",
       "      <td>Consumer</td>\n",
       "      <td>Groceries delivered fast.</td>\n",
       "      <td>2095.9</td>\n",
       "      <td>4536</td>\n",
       "      <td>31175</td>\n",
       "      <td>71.0</td>\n",
       "      <td>84839</td>\n",
       "      <td>NaN</td>\n",
       "      <td>NaN</td>\n",
       "      <td>40930</td>\n",
       "      <td>NaN</td>\n",
       "      <td>800</td>\n",
       "      <td>NaN</td>\n",
       "    </tr>\n",
       "    <tr>\n",
       "      <th>3</th>\n",
       "      <td>Dropbox</td>\n",
       "      <td>S07</td>\n",
       "      <td>Other SaaS</td>\n",
       "      <td>Backup and share files in the cloud.</td>\n",
       "      <td>2057.2</td>\n",
       "      <td>79</td>\n",
       "      <td>4371622</td>\n",
       "      <td>95.0</td>\n",
       "      <td>1351489</td>\n",
       "      <td>NaN</td>\n",
       "      <td>NaN</td>\n",
       "      <td>NaN</td>\n",
       "      <td>NaN</td>\n",
       "      <td>3740</td>\n",
       "      <td>NaN</td>\n",
       "    </tr>\n",
       "    <tr>\n",
       "      <th>4</th>\n",
       "      <td>DoorDash</td>\n",
       "      <td>S13</td>\n",
       "      <td>Consumer</td>\n",
       "      <td>Restaurant delivery.</td>\n",
       "      <td>2000.0</td>\n",
       "      <td>1649</td>\n",
       "      <td>117922</td>\n",
       "      <td>73.0</td>\n",
       "      <td>54532</td>\n",
       "      <td>NaN</td>\n",
       "      <td>930</td>\n",
       "      <td>NaN</td>\n",
       "      <td>NaN</td>\n",
       "      <td>1700</td>\n",
       "      <td>NaN</td>\n",
       "    </tr>\n",
       "  </tbody>\n",
       "</table>\n",
       "</div>"
      ],
      "text/plain": [
       "        noms batch  categories                          descriptions funding  \\\n",
       "0     Airbnb   W09    Consumer  Book accommodations around the world  6000.3   \n",
       "1     Cruise   W14   Transport                    Self-driving cars.  3368.8   \n",
       "2  Instacart   S12    Consumer             Groceries delivered fast.  2095.9   \n",
       "3    Dropbox   S07  Other SaaS  Backup and share files in the cloud.  2057.2   \n",
       "4   DoorDash   S13    Consumer                  Restaurant delivery.  2000.0   \n",
       "\n",
       "  alexaRank twitterFollowers  domainAuthority facebookLikes huntVotes  \\\n",
       "0       234           695116             91.0       8754088       NaN   \n",
       "1       NaN              NaN              NaN           NaN       NaN   \n",
       "2      4536            31175             71.0         84839       NaN   \n",
       "3        79          4371622             95.0       1351489       NaN   \n",
       "4      1649           117922             73.0         54532       NaN   \n",
       "\n",
       "  growthScore tweetCount linkedinFollowers employeesCount exitValue  \n",
       "0         600      39485               NaN           6100       NaN  \n",
       "1         NaN        NaN               NaN           1770    1000.0  \n",
       "2         NaN      40930               NaN            800       NaN  \n",
       "3         NaN        NaN               NaN           3740       NaN  \n",
       "4         930        NaN               NaN           1700       NaN  "
      ]
     },
     "execution_count": 14,
     "metadata": {},
     "output_type": "execute_result"
    }
   ],
   "source": [
    "mergedRankings.head()"
   ]
  },
  {
   "cell_type": "code",
   "execution_count": 15,
   "metadata": {},
   "outputs": [],
   "source": [
    "### Plein de NaN values. Il semblerait qu'on ait pas toujours les 100 mêmes entreprises... \n",
    "### Ou alors, problème lors du merge qui a mis plusieurs lignes pour la même entreprise car parfois pas exactement le même nom pour la même startup ?"
   ]
  },
  {
   "cell_type": "code",
   "execution_count": 16,
   "metadata": {},
   "outputs": [
    {
     "data": {
      "text/plain": [
       "noms                 499\n",
       "batch                 28\n",
       "categories            15\n",
       "descriptions         499\n",
       "funding               94\n",
       "alexaRank            100\n",
       "twitterFollowers     100\n",
       "domainAuthority       32\n",
       "facebookLikes        100\n",
       "huntVotes             93\n",
       "growthScore           84\n",
       "tweetCount           100\n",
       "linkedinFollowers     88\n",
       "employeesCount        56\n",
       "exitValue             38\n",
       "dtype: int64"
      ]
     },
     "execution_count": 16,
     "metadata": {},
     "output_type": "execute_result"
    }
   ],
   "source": [
    "mergedRankings.nunique() ### On voit bien qu'il y a 499 noms différents. A voir si on a pas trop de trous pour faire des analyses."
   ]
  },
  {
   "cell_type": "code",
   "execution_count": 117,
   "metadata": {},
   "outputs": [],
   "source": [
    "mergedRankings = mergedRankings.astype({'funding': 'float64', 'exitValue': 'float64', 'alexaRank': 'float64', 'twitterFollowers': 'float64', 'domainAuthority': 'float64', 'facebookLikes': 'float64', 'huntVotes': 'float64', 'growthScore': 'float64', 'tweetCount': 'float64', 'linkedinFollowers': 'float64', 'employeesCount': 'float64'})"
   ]
  },
  {
   "cell_type": "markdown",
   "metadata": {},
   "source": [
    "### Exploration des différentes combinaisons"
   ]
  },
  {
   "cell_type": "markdown",
   "metadata": {},
   "source": [
    "###### Funding x autres"
   ]
  },
  {
   "cell_type": "code",
   "execution_count": 120,
   "metadata": {},
   "outputs": [],
   "source": [
    "fundTwitter = mergedRankings[['noms', 'batch', 'categories', 'descriptions', 'funding', 'twitterFollowers']]"
   ]
  },
  {
   "cell_type": "code",
   "execution_count": 121,
   "metadata": {},
   "outputs": [],
   "source": [
    "fundTwitter = fundTwitter.dropna() ### 35 en commun"
   ]
  },
  {
   "cell_type": "code",
   "execution_count": 122,
   "metadata": {},
   "outputs": [
    {
     "data": {
      "image/png": "[encoded data removed]",
      "text/plain": [
       "<Figure size 432x288 with 1 Axes>"
      ]
     },
     "metadata": {
      "needs_background": "light"
     },
     "output_type": "display_data"
    }
   ],
   "source": [
    "plt.scatter(fundTwitter['twitterFollowers'], fundTwitter['funding'])\n",
    "#plt.xscale(\"log\")\n",
    "\n",
    "#plt.title('Nuage de points avec Matplotlib')\n",
    "plt.xlabel('x')\n",
    "plt.ylabel('y')\n",
    "\n",
    "#plt.savefig('ScatterPlot_01.png')\n",
    "plt.show()"
   ]
  },
  {
   "cell_type": "code",
   "execution_count": 123,
   "metadata": {},
   "outputs": [],
   "source": [
    "fundFacebook = mergedRankings[['noms', 'batch', 'categories', 'descriptions', 'funding', 'facebookLikes']]"
   ]
  },
  {
   "cell_type": "code",
   "execution_count": 124,
   "metadata": {},
   "outputs": [],
   "source": [
    "fundFacebook = fundFacebook.dropna() ### 25 en commun"
   ]
  },
  {
   "cell_type": "code",
   "execution_count": 125,
   "metadata": {},
   "outputs": [
    {
     "data": {
      "image/png": "[encoded data removed]",
      "text/plain": [
       "<Figure size 432x288 with 1 Axes>"
      ]
     },
     "metadata": {
      "needs_background": "light"
     },
     "output_type": "display_data"
    }
   ],
   "source": [
    "plt.scatter(fundFacebook['facebookLikes'], fundFacebook['funding'])\n",
    "#plt.xscale(\"log\")\n",
    "\n",
    "#plt.title('Nuage de points avec Matplotlib')\n",
    "plt.xlabel('x')\n",
    "plt.ylabel('y')\n",
    "\n",
    "#plt.savefig('ScatterPlot_01.png')\n",
    "plt.show()"
   ]
  },
  {
   "cell_type": "code",
   "execution_count": 126,
   "metadata": {},
   "outputs": [],
   "source": [
    "fundLinkedin = mergedRankings[['noms', 'batch', 'categories', 'descriptions', 'funding', 'linkedinFollowers']]"
   ]
  },
  {
   "cell_type": "code",
   "execution_count": 127,
   "metadata": {},
   "outputs": [],
   "source": [
    "fundLinkedin = fundLinkedin.dropna() ### 24 en commun"
   ]
  },
  {
   "cell_type": "code",
   "execution_count": 128,
   "metadata": {},
   "outputs": [
    {
     "data": {
      "image/png": "[encoded data removed]",
      "text/plain": [
       "<Figure size 432x288 with 1 Axes>"
      ]
     },
     "metadata": {
      "needs_background": "light"
     },
     "output_type": "display_data"
    }
   ],
   "source": [
    "plt.scatter(fundLinkedin['linkedinFollowers'], fundLinkedin['funding'])\n",
    "#plt.xscale(\"log\")\n",
    "\n",
    "#plt.title('Nuage de points avec Matplotlib')\n",
    "plt.xlabel('x')\n",
    "plt.ylabel('y')\n",
    "\n",
    "#plt.savefig('ScatterPlot_01.png')\n",
    "plt.show()"
   ]
  },
  {
   "cell_type": "code",
   "execution_count": 129,
   "metadata": {},
   "outputs": [],
   "source": [
    "fundTweets = mergedRankings[['noms', 'batch', 'categories', 'descriptions', 'funding', 'tweetCount']]"
   ]
  },
  {
   "cell_type": "code",
   "execution_count": 130,
   "metadata": {},
   "outputs": [],
   "source": [
    "fundTweets = fundTweets.dropna() ### 32 en commun"
   ]
  },
  {
   "cell_type": "code",
   "execution_count": 131,
   "metadata": {},
   "outputs": [
    {
     "data": {
      "text/plain": [
       "32"
      ]
     },
     "execution_count": 131,
     "metadata": {},
     "output_type": "execute_result"
    }
   ],
   "source": [
    "len(fundTweets)"
   ]
  },
  {
   "cell_type": "code",
   "execution_count": 132,
   "metadata": {},
   "outputs": [
    {
     "data": {
      "image/png": "[encoded data removed]",
      "text/plain": [
       "<Figure size 432x288 with 1 Axes>"
      ]
     },
     "metadata": {
      "needs_background": "light"
     },
     "output_type": "display_data"
    }
   ],
   "source": [
    "plt.scatter(fundTweets['tweetCount'], fundTweets['funding'])\n",
    "#plt.xscale(\"log\")\n",
    "\n",
    "#plt.title('Nuage de points avec Matplotlib')\n",
    "plt.xlabel('x')\n",
    "plt.ylabel('y')\n",
    "\n",
    "#plt.savefig('ScatterPlot_01.png')\n",
    "plt.show()"
   ]
  },
  {
   "cell_type": "code",
   "execution_count": 133,
   "metadata": {},
   "outputs": [],
   "source": [
    "## Moyen de regarder les trucs en commun avec une meilleure commande. Voir..."
   ]
  },
  {
   "cell_type": "code",
   "execution_count": 134,
   "metadata": {},
   "outputs": [],
   "source": [
    "### Croisement des 4\n",
    "fundSocialNet = mergedRankings[['noms', 'batch', 'categories', 'descriptions', 'funding', 'twitterFollowers', 'facebookLikes']]"
   ]
  },
  {
   "cell_type": "code",
   "execution_count": 135,
   "metadata": {},
   "outputs": [],
   "source": [
    "fundSocialNet = fundSocialNet.dropna()"
   ]
  },
  {
   "cell_type": "code",
   "execution_count": 136,
   "metadata": {},
   "outputs": [
    {
     "data": {
      "text/plain": [
       "17"
      ]
     },
     "execution_count": 136,
     "metadata": {},
     "output_type": "execute_result"
    }
   ],
   "source": [
    "len(fundSocialNet)"
   ]
  },
  {
   "cell_type": "code",
   "execution_count": 137,
   "metadata": {},
   "outputs": [],
   "source": [
    "fundVisit = mergedRankings[['noms', 'batch', 'categories', 'descriptions', 'funding', 'alexaRank']]"
   ]
  },
  {
   "cell_type": "code",
   "execution_count": 138,
   "metadata": {},
   "outputs": [],
   "source": [
    "fundVisit = fundVisit.dropna()"
   ]
  },
  {
   "cell_type": "code",
   "execution_count": 139,
   "metadata": {},
   "outputs": [
    {
     "data": {
      "text/plain": [
       "38"
      ]
     },
     "execution_count": 139,
     "metadata": {},
     "output_type": "execute_result"
    }
   ],
   "source": [
    "len(fundVisit)"
   ]
  },
  {
   "cell_type": "code",
   "execution_count": 140,
   "metadata": {},
   "outputs": [
    {
     "data": {
      "image/png": "[encoded data removed]",
      "text/plain": [
       "<Figure size 432x288 with 1 Axes>"
      ]
     },
     "metadata": {
      "needs_background": "light"
     },
     "output_type": "display_data"
    }
   ],
   "source": [
    "plt.scatter(fundVisit['alexaRank'], fundVisit['funding'])\n",
    "#plt.xscale(\"log\")\n",
    "\n",
    "#plt.title('Nuage de points avec Matplotlib')\n",
    "plt.xlabel('x')\n",
    "plt.ylabel('y')\n",
    "\n",
    "#plt.savefig('ScatterPlot_01.png')\n",
    "plt.show()"
   ]
  },
  {
   "cell_type": "code",
   "execution_count": 141,
   "metadata": {},
   "outputs": [
    {
     "data": {
      "text/plain": [
       "53"
      ]
     },
     "execution_count": 141,
     "metadata": {},
     "output_type": "execute_result"
    }
   ],
   "source": [
    "fundSize = mergedRankings[['noms', 'batch', 'categories', 'descriptions', 'funding', 'employeesCount']]\n",
    "fundSize = fundSize.dropna()\n",
    "len(fundSize)"
   ]
  },
  {
   "cell_type": "code",
   "execution_count": 142,
   "metadata": {},
   "outputs": [
    {
     "data": {
      "image/png": "[encoded data removed]",
      "text/plain": [
       "<Figure size 432x288 with 1 Axes>"
      ]
     },
     "metadata": {
      "needs_background": "light"
     },
     "output_type": "display_data"
    }
   ],
   "source": [
    "plt.scatter(fundSize['employeesCount'], fundSize['funding'])\n",
    "#plt.xscale(\"log\")\n",
    "\n",
    "#plt.title('Nuage de points avec Matplotlib')\n",
    "plt.xlabel('x')\n",
    "plt.ylabel('y')\n",
    "\n",
    "#plt.savefig('ScatterPlot_01.png')\n",
    "plt.show()"
   ]
  },
  {
   "cell_type": "code",
   "execution_count": 143,
   "metadata": {},
   "outputs": [
    {
     "data": {
      "text/plain": [
       "27"
      ]
     },
     "execution_count": 143,
     "metadata": {},
     "output_type": "execute_result"
    }
   ],
   "source": [
    "fundGrowth = mergedRankings[['noms', 'batch', 'categories', 'descriptions', 'funding', 'growthScore']]\n",
    "fundGrowth = fundGrowth.dropna()\n",
    "len(fundGrowth)"
   ]
  },
  {
   "cell_type": "code",
   "execution_count": 144,
   "metadata": {},
   "outputs": [
    {
     "data": {
      "image/png": "[encoded data removed]",
      "text/plain": [
       "<Figure size 432x288 with 1 Axes>"
      ]
     },
     "metadata": {
      "needs_background": "light"
     },
     "output_type": "display_data"
    }
   ],
   "source": [
    "plt.scatter(fundGrowth['growthScore'], fundGrowth['funding'])\n",
    "#plt.xscale(\"log\")\n",
    "\n",
    "#plt.title('Nuage de points avec Matplotlib')\n",
    "plt.xlabel('x')\n",
    "plt.ylabel('y')\n",
    "\n",
    "#plt.savefig('ScatterPlot_01.png')\n",
    "plt.show()"
   ]
  },
  {
   "cell_type": "code",
   "execution_count": 145,
   "metadata": {},
   "outputs": [
    {
     "data": {
      "text/plain": [
       "33"
      ]
     },
     "execution_count": 145,
     "metadata": {},
     "output_type": "execute_result"
    }
   ],
   "source": [
    "fundDA = mergedRankings[['noms', 'batch', 'categories', 'descriptions', 'funding', 'domainAuthority']]\n",
    "fundDA = fundDA.dropna()\n",
    "len(fundDA)"
   ]
  },
  {
   "cell_type": "code",
   "execution_count": 159,
   "metadata": {},
   "outputs": [
    {
     "data": {
      "image/png": "[encoded data removed]",
      "text/plain": [
       "<Figure size 432x288 with 1 Axes>"
      ]
     },
     "metadata": {
      "needs_background": "light"
     },
     "output_type": "display_data"
    }
   ],
   "source": [
    "plt.scatter(fundDA['domainAuthority'], fundDA['funding'])\n",
    "#plt.xscale(\"log\")\n",
    "\n",
    "#plt.title('Nuage de points avec Matplotlib')\n",
    "plt.xlabel('x')\n",
    "plt.ylabel('y')\n",
    "\n",
    "#plt.savefig('ScatterPlot_01.png')\n",
    "plt.show()"
   ]
  },
  {
   "cell_type": "markdown",
   "metadata": {},
   "source": [
    "###### Analyse de chaque catégorie par batch"
   ]
  },
  {
   "cell_type": "code",
   "execution_count": null,
   "metadata": {},
   "outputs": [],
   "source": [
    "# faire aussi fund par batch. Par année et/ou par saison. Quelle année la meilleure ? Quelle promo ? Quelle saison ?"
   ]
  },
  {
   "cell_type": "code",
   "execution_count": 223,
   "metadata": {},
   "outputs": [
    {
     "data": {
      "text/plain": [
       "array(['W09', 'W14', 'S12', 'S07', 'S13', 'S09', 'W16', 'W13', 'S05',\n",
       "       'S14', 'W08', 'W12', 'S10', 'S11', 'W10', 'S16', 'W15', 'W18',\n",
       "       'S18', 'W11', 'W06', 'S15', 'W17', 'S17', 'S06', 'W07', 'W19',\n",
       "       'S08'], dtype=object)"
      ]
     },
     "execution_count": 223,
     "metadata": {},
     "output_type": "execute_result"
    }
   ],
   "source": [
    "mergedRankings.batch.unique()"
   ]
  },
  {
   "cell_type": "code",
   "execution_count": 234,
   "metadata": {},
   "outputs": [],
   "source": [
    "promo_list = funding.batch.unique().tolist()"
   ]
  },
  {
   "cell_type": "code",
   "execution_count": 232,
   "metadata": {},
   "outputs": [],
   "source": [
    "funding = funding.astype({'funding': 'float64'})"
   ]
  },
  {
   "cell_type": "code",
   "execution_count": 244,
   "metadata": {},
   "outputs": [
    {
     "name": "stdout",
     "output_type": "stream",
     "text": [
      "La capitalisation moyenne pour une startup de la promo W09 est de :\n",
      "6000.3\n",
      "La capitalisation moyenne pour une startup de la promo W14 est de :\n",
      "637.5875000000001\n",
      "La capitalisation moyenne pour une startup de la promo S12 est de :\n",
      "382.1625000000001\n",
      "La capitalisation moyenne pour une startup de la promo S07 est de :\n",
      "1059.0\n",
      "La capitalisation moyenne pour une startup de la promo S13 est de :\n",
      "609.4\n",
      "La capitalisation moyenne pour une startup de la promo S09 est de :\n",
      "472.09999999999997\n",
      "La capitalisation moyenne pour une startup de la promo W16 est de :\n",
      "374.075\n",
      "La capitalisation moyenne pour une startup de la promo W13 est de :\n",
      "249.82000000000002\n",
      "La capitalisation moyenne pour une startup de la promo S05 est de :\n",
      "550.1\n",
      "La capitalisation moyenne pour une startup de la promo S14 est de :\n",
      "154.2\n",
      "La capitalisation moyenne pour une startup de la promo W08 est de :\n",
      "390.3\n",
      "La capitalisation moyenne pour une startup de la promo W12 est de :\n",
      "164.3125\n",
      "La capitalisation moyenne pour une startup de la promo S10 est de :\n",
      "173.2166666666667\n",
      "La capitalisation moyenne pour une startup de la promo S11 est de :\n",
      "103.4\n",
      "La capitalisation moyenne pour une startup de la promo W10 est de :\n",
      "251.2\n",
      "La capitalisation moyenne pour une startup de la promo S16 est de :\n",
      "92.05\n",
      "La capitalisation moyenne pour une startup de la promo W15 est de :\n",
      "85.77142857142857\n",
      "La capitalisation moyenne pour une startup de la promo W18 est de :\n",
      "103.25\n",
      "La capitalisation moyenne pour une startup de la promo S18 est de :\n",
      "96.35\n",
      "La capitalisation moyenne pour une startup de la promo W11 est de :\n",
      "82.24000000000001\n",
      "La capitalisation moyenne pour une startup de la promo W06 est de :\n",
      "71.7\n",
      "La capitalisation moyenne pour une startup de la promo S15 est de :\n",
      "56.05\n",
      "La capitalisation moyenne pour une startup de la promo W17 est de :\n",
      "53.6\n",
      "La capitalisation moyenne pour une startup de la promo S17 est de :\n",
      "49.35\n",
      "La capitalisation moyenne pour une startup de la promo S06 est de :\n",
      "47.8\n"
     ]
    }
   ],
   "source": [
    "for promo in promo_list:\n",
    "    print('La capitalisation moyenne pour une startup de la promo ' + promo + ' est de :')\n",
    "    print(funding[funding.batch == promo].funding.mean())"
   ]
  },
  {
   "cell_type": "markdown",
   "metadata": {},
   "source": [
    "###### Stats descriptives par catégorie"
   ]
  },
  {
   "cell_type": "code",
   "execution_count": null,
   "metadata": {},
   "outputs": [],
   "source": [
    "### Idées en vrac : matrices de corrélation (voir page que j'ai sur mon google chrome)"
   ]
  },
  {
   "cell_type": "markdown",
   "metadata": {},
   "source": [
    "###### Employees and RS"
   ]
  },
  {
   "cell_type": "code",
   "execution_count": 151,
   "metadata": {},
   "outputs": [
    {
     "data": {
      "text/plain": [
       "33"
      ]
     },
     "execution_count": 151,
     "metadata": {},
     "output_type": "execute_result"
    }
   ],
   "source": [
    "sizeTwitter = mergedRankings[['noms', 'batch', 'categories', 'descriptions', 'employeesCount', 'twitterFollowers']]\n",
    "sizeTwitter = sizeTwitter.dropna()\n",
    "len(sizeTwitter)"
   ]
  },
  {
   "cell_type": "code",
   "execution_count": 156,
   "metadata": {},
   "outputs": [
    {
     "data": {
      "image/png": "[encoded data removed]",
      "text/plain": [
       "<Figure size 432x288 with 1 Axes>"
      ]
     },
     "metadata": {
      "needs_background": "light"
     },
     "output_type": "display_data"
    }
   ],
   "source": [
    "plt.scatter(sizeTwitter['twitterFollowers'], sizeTwitter['employeesCount'])\n",
    "plt.xscale(\"log\")\n",
    "\n",
    "#plt.title('Nuage de points avec Matplotlib')\n",
    "plt.xlabel('x')\n",
    "plt.ylabel('y')\n",
    "\n",
    "#plt.savefig('ScatterPlot_01.png')\n",
    "plt.show()"
   ]
  },
  {
   "cell_type": "code",
   "execution_count": 161,
   "metadata": {},
   "outputs": [
    {
     "data": {
      "text/plain": [
       "38"
      ]
     },
     "execution_count": 161,
     "metadata": {},
     "output_type": "execute_result"
    }
   ],
   "source": [
    "sizeTweets = mergedRankings[['noms', 'batch', 'categories', 'descriptions', 'employeesCount', 'tweetCount']]\n",
    "sizeTweets = sizeTweets.dropna()\n",
    "len(sizeTweets)"
   ]
  },
  {
   "cell_type": "code",
   "execution_count": 165,
   "metadata": {},
   "outputs": [
    {
     "data": {
      "image/png": "[encoded data removed]",
      "text/plain": [
       "<Figure size 432x288 with 1 Axes>"
      ]
     },
     "metadata": {
      "needs_background": "light"
     },
     "output_type": "display_data"
    }
   ],
   "source": [
    "plt.scatter(sizeTweets['employeesCount'], sizeTweets['tweetCount'])\n",
    "plt.xscale(\"log\")\n",
    "\n",
    "#plt.title('Nuage de points avec Matplotlib')\n",
    "plt.xlabel('x')\n",
    "plt.ylabel('y')\n",
    "\n",
    "#plt.savefig('ScatterPlot_01.png')\n",
    "plt.show()"
   ]
  },
  {
   "cell_type": "code",
   "execution_count": 167,
   "metadata": {},
   "outputs": [
    {
     "data": {
      "text/plain": [
       "33"
      ]
     },
     "execution_count": 167,
     "metadata": {},
     "output_type": "execute_result"
    }
   ],
   "source": [
    "sizeFacebook = mergedRankings[['noms', 'batch', 'categories', 'descriptions', 'employeesCount', 'facebookLikes']]\n",
    "sizeFacebook = sizeFacebook.dropna()\n",
    "len(sizeFacebook)"
   ]
  },
  {
   "cell_type": "code",
   "execution_count": 171,
   "metadata": {},
   "outputs": [
    {
     "data": {
      "image/png": "[encoded data removed]",
      "text/plain": [
       "<Figure size 432x288 with 1 Axes>"
      ]
     },
     "metadata": {
      "needs_background": "light"
     },
     "output_type": "display_data"
    }
   ],
   "source": [
    "plt.scatter(sizeFacebook['facebookLikes'], sizeFacebook['employeesCount'])\n",
    "plt.xscale(\"log\")\n",
    "\n",
    "#plt.title('Nuage de points avec Matplotlib')\n",
    "plt.xlabel('x')\n",
    "plt.ylabel('y')\n",
    "\n",
    "#plt.savefig('ScatterPlot_01.png')\n",
    "plt.show()"
   ]
  },
  {
   "cell_type": "code",
   "execution_count": 172,
   "metadata": {},
   "outputs": [
    {
     "data": {
      "text/plain": [
       "22"
      ]
     },
     "execution_count": 172,
     "metadata": {},
     "output_type": "execute_result"
    }
   ],
   "source": [
    "sizeLinkedin = mergedRankings[['noms', 'batch', 'categories', 'descriptions', 'employeesCount', 'linkedinFollowers']]\n",
    "sizeLinkedin = sizeLinkedin.dropna()\n",
    "len(sizeLinkedin)"
   ]
  },
  {
   "cell_type": "code",
   "execution_count": 176,
   "metadata": {},
   "outputs": [
    {
     "data": {
      "image/png": "[encoded data removed]",
      "text/plain": [
       "<Figure size 432x288 with 1 Axes>"
      ]
     },
     "metadata": {
      "needs_background": "light"
     },
     "output_type": "display_data"
    }
   ],
   "source": [
    "plt.scatter(sizeLinkedin['employeesCount'], sizeLinkedin['linkedinFollowers'])\n",
    "plt.xscale(\"log\")\n",
    "\n",
    "#plt.title('Nuage de points avec Matplotlib')\n",
    "plt.xlabel('x')\n",
    "plt.ylabel('y')\n",
    "\n",
    "#plt.savefig('ScatterPlot_01.png')\n",
    "plt.show()"
   ]
  },
  {
   "cell_type": "code",
   "execution_count": 177,
   "metadata": {},
   "outputs": [
    {
     "data": {
      "text/plain": [
       "44"
      ]
     },
     "execution_count": 177,
     "metadata": {},
     "output_type": "execute_result"
    }
   ],
   "source": [
    "sizeVisit = mergedRankings[['noms', 'batch', 'categories', 'descriptions', 'employeesCount', 'alexaRank']]\n",
    "sizeVisit = sizeVisit.dropna()\n",
    "len(sizeVisit)"
   ]
  },
  {
   "cell_type": "code",
   "execution_count": 184,
   "metadata": {},
   "outputs": [
    {
     "data": {
      "image/png": "[encoded data removed]",
      "text/plain": [
       "<Figure size 432x288 with 1 Axes>"
      ]
     },
     "metadata": {
      "needs_background": "light"
     },
     "output_type": "display_data"
    }
   ],
   "source": [
    "plt.scatter(sizeVisit['employeesCount'], sizeVisit['alexaRank'])\n",
    "plt.xscale(\"log\")\n",
    "\n",
    "#plt.title('Nuage de points avec Matplotlib')\n",
    "plt.xlabel('x')\n",
    "plt.ylabel('y')\n",
    "\n",
    "#plt.savefig('ScatterPlot_01.png')\n",
    "plt.show()"
   ]
  },
  {
   "cell_type": "markdown",
   "metadata": {},
   "source": [
    "###### Growth Score and RS"
   ]
  },
  {
   "cell_type": "code",
   "execution_count": 185,
   "metadata": {},
   "outputs": [
    {
     "data": {
      "text/plain": [
       "21"
      ]
     },
     "execution_count": 185,
     "metadata": {},
     "output_type": "execute_result"
    }
   ],
   "source": [
    "growthTwitter = mergedRankings[['noms', 'batch', 'categories', 'descriptions', 'growthScore', 'twitterFollowers']]\n",
    "growthTwitter = growthTwitter.dropna()\n",
    "len(growthTwitter)"
   ]
  },
  {
   "cell_type": "code",
   "execution_count": 190,
   "metadata": {},
   "outputs": [
    {
     "data": {
      "image/png": "[encoded data removed]",
      "text/plain": [
       "<Figure size 432x288 with 1 Axes>"
      ]
     },
     "metadata": {
      "needs_background": "light"
     },
     "output_type": "display_data"
    }
   ],
   "source": [
    "plt.scatter(growthTwitter['twitterFollowers'], growthTwitter['growthScore'])\n",
    "plt.xscale(\"log\")\n",
    "\n",
    "#plt.title('Nuage de points avec Matplotlib')\n",
    "plt.xlabel('x')\n",
    "plt.ylabel('y')\n",
    "\n",
    "#plt.savefig('ScatterPlot_01.png')\n",
    "plt.show()"
   ]
  },
  {
   "cell_type": "code",
   "execution_count": 191,
   "metadata": {},
   "outputs": [
    {
     "data": {
      "text/plain": [
       "21"
      ]
     },
     "execution_count": 191,
     "metadata": {},
     "output_type": "execute_result"
    }
   ],
   "source": [
    "growthTweets = mergedRankings[['noms', 'batch', 'categories', 'descriptions', 'growthScore', 'tweetCount']]\n",
    "growthTweets = growthTweets.dropna()\n",
    "len(growthTweets)"
   ]
  },
  {
   "cell_type": "code",
   "execution_count": 197,
   "metadata": {},
   "outputs": [
    {
     "data": {
      "image/png": "[encoded data removed]",
      "text/plain": [
       "<Figure size 432x288 with 1 Axes>"
      ]
     },
     "metadata": {
      "needs_background": "light"
     },
     "output_type": "display_data"
    }
   ],
   "source": [
    "plt.scatter(growthTweets['tweetCount'], growthTweets['growthScore'])\n",
    "#plt.xscale(\"log\")\n",
    "\n",
    "#plt.title('Nuage de points avec Matplotlib')\n",
    "plt.xlabel('x')\n",
    "plt.ylabel('y')\n",
    "\n",
    "#plt.savefig('ScatterPlot_01.png')\n",
    "plt.show()"
   ]
  },
  {
   "cell_type": "code",
   "execution_count": 198,
   "metadata": {},
   "outputs": [
    {
     "data": {
      "text/plain": [
       "22"
      ]
     },
     "execution_count": 198,
     "metadata": {},
     "output_type": "execute_result"
    }
   ],
   "source": [
    "growthFacebook = mergedRankings[['noms', 'batch', 'categories', 'descriptions', 'growthScore', 'facebookLikes']]\n",
    "growthFacebook = growthFacebook.dropna()\n",
    "len(growthFacebook)"
   ]
  },
  {
   "cell_type": "code",
   "execution_count": 206,
   "metadata": {},
   "outputs": [
    {
     "data": {
      "image/png": "[encoded data removed]",
      "text/plain": [
       "<Figure size 432x288 with 1 Axes>"
      ]
     },
     "metadata": {
      "needs_background": "light"
     },
     "output_type": "display_data"
    }
   ],
   "source": [
    "plt.scatter(growthFacebook['facebookLikes'], growthFacebook['growthScore'])\n",
    "plt.xscale(\"log\")\n",
    "\n",
    "#plt.title('Nuage de points avec Matplotlib')\n",
    "plt.xlabel('x')\n",
    "plt.ylabel('y')\n",
    "\n",
    "#plt.savefig('ScatterPlot_01.png')\n",
    "plt.show()"
   ]
  },
  {
   "cell_type": "code",
   "execution_count": 207,
   "metadata": {},
   "outputs": [
    {
     "data": {
      "text/plain": [
       "21"
      ]
     },
     "execution_count": 207,
     "metadata": {},
     "output_type": "execute_result"
    }
   ],
   "source": [
    "growthLinkedin = mergedRankings[['noms', 'batch', 'categories', 'descriptions', 'growthScore', 'linkedinFollowers']]\n",
    "growthLinkedin = growthLinkedin.dropna()\n",
    "len(growthLinkedin)"
   ]
  },
  {
   "cell_type": "code",
   "execution_count": 214,
   "metadata": {},
   "outputs": [
    {
     "data": {
      "image/png": "[encoded data removed]",
      "text/plain": [
       "<Figure size 432x288 with 1 Axes>"
      ]
     },
     "metadata": {
      "needs_background": "light"
     },
     "output_type": "display_data"
    }
   ],
   "source": [
    "plt.scatter(growthLinkedin['growthScore'], growthLinkedin['linkedinFollowers'])\n",
    "plt.xscale(\"log\")\n",
    "\n",
    "#plt.title('Nuage de points avec Matplotlib')\n",
    "plt.xlabel('x')\n",
    "plt.ylabel('y')\n",
    "\n",
    "#plt.savefig('ScatterPlot_01.png')\n",
    "plt.show()"
   ]
  },
  {
   "cell_type": "code",
   "execution_count": 216,
   "metadata": {},
   "outputs": [
    {
     "data": {
      "text/plain": [
       "29"
      ]
     },
     "execution_count": 216,
     "metadata": {},
     "output_type": "execute_result"
    }
   ],
   "source": [
    "growthVisit = mergedRankings[['noms', 'batch', 'categories', 'descriptions', 'growthScore', 'alexaRank']]\n",
    "growthVisit = growthVisit.dropna()\n",
    "len(growthVisit)"
   ]
  },
  {
   "cell_type": "code",
   "execution_count": 222,
   "metadata": {},
   "outputs": [
    {
     "data": {
      "image/png": "[encoded data removed]",
      "text/plain": [
       "<Figure size 432x288 with 1 Axes>"
      ]
     },
     "metadata": {
      "needs_background": "light"
     },
     "output_type": "display_data"
    }
   ],
   "source": [
    "plt.scatter(growthVisit['growthScore'], growthVisit['alexaRank'])\n",
    "plt.xscale(\"log\")\n",
    "\n",
    "#plt.title('Nuage de points avec Matplotlib')\n",
    "plt.xlabel('x')\n",
    "plt.ylabel('y')\n",
    "\n",
    "#plt.savefig('ScatterPlot_01.png')\n",
    "plt.show()"
   ]
  },
  {
   "cell_type": "code",
   "execution_count": 87,
   "metadata": {},
   "outputs": [
    {
     "data": {
      "text/plain": [
       "6"
      ]
     },
     "execution_count": 87,
     "metadata": {},
     "output_type": "execute_result"
    }
   ],
   "source": [
    "growthHunt = mergedRankings[['noms', 'batch', 'categories', 'descriptions', 'growthScore', 'huntVotes']]\n",
    "growthHunt = growthHunt.dropna()\n",
    "len(growthHunt)"
   ]
  }
 ],
 "metadata": {
  "kernelspec": {
   "display_name": "Python 3",
   "language": "python",
   "name": "python3"
  },
  "language_info": {
   "codemirror_mode": {
    "name": "ipython",
    "version": 3
   },
   "file_extension": ".py",
   "mimetype": "text/x-python",
   "name": "python",
   "nbconvert_exporter": "python",
   "pygments_lexer": "ipython3",
   "version": "3.7.1"
  }
 },
 "nbformat": 4,
 "nbformat_minor": 2
}
